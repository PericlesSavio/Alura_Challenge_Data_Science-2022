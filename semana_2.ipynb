{
 "cells": [
  {
   "cell_type": "markdown",
   "metadata": {},
   "source": [
    "## Semana 2"
   ]
  },
  {
   "cell_type": "markdown",
   "metadata": {},
   "source": [
    "### Bibliotecas e dados brutos"
   ]
  },
  {
   "cell_type": "code",
   "execution_count": 99,
   "metadata": {},
   "outputs": [],
   "source": [
    "# bibliotecas usadas:\n",
    "import pandas as pd # manipulação dos dados\n",
    "import seaborn as sns # gráficos\n",
    "\n",
    "# opcional (ocutar alguns alertas)\n",
    "import warnings\n",
    "warnings.filterwarnings('ignore')"
   ]
  },
  {
   "cell_type": "code",
   "execution_count": 100,
   "metadata": {},
   "outputs": [
    {
     "data": {
      "text/html": [
       "<div>\n",
       "<style scoped>\n",
       "    .dataframe tbody tr th:only-of-type {\n",
       "        vertical-align: middle;\n",
       "    }\n",
       "\n",
       "    .dataframe tbody tr th {\n",
       "        vertical-align: top;\n",
       "    }\n",
       "\n",
       "    .dataframe thead th {\n",
       "        text-align: right;\n",
       "    }\n",
       "</style>\n",
       "<table border=\"1\" class=\"dataframe\">\n",
       "  <thead>\n",
       "    <tr style=\"text-align: right;\">\n",
       "      <th></th>\n",
       "      <th>PESSOA</th>\n",
       "      <th>IDADE</th>\n",
       "      <th>RENDIMENTO_ANUAL</th>\n",
       "      <th>SITUACAO_PROPRIEDADE</th>\n",
       "      <th>ANOS_TRABALHADOS</th>\n",
       "      <th>EMPRESTIMO</th>\n",
       "      <th>MOTIVO_EMPRESTIMO</th>\n",
       "      <th>PONTUACAO</th>\n",
       "      <th>VALOR_EMPRESTIMO</th>\n",
       "      <th>JUROS</th>\n",
       "      <th>POSSIB_INADIMPLENCIA</th>\n",
       "      <th>EMPRESTIMO_PERC_RENDA_ANUAL</th>\n",
       "      <th>SOLICITACAO</th>\n",
       "      <th>INADIMPLENTE</th>\n",
       "      <th>ANOS_PRIMEIRO_CREDITO</th>\n",
       "    </tr>\n",
       "  </thead>\n",
       "  <tbody>\n",
       "    <tr>\n",
       "      <th>22390</th>\n",
       "      <td>SWP7hYlJ-hxZN</td>\n",
       "      <td>30.0</td>\n",
       "      <td>51600.0</td>\n",
       "      <td>Alugada</td>\n",
       "      <td>5.0</td>\n",
       "      <td>kN8n5jcA-1FGc</td>\n",
       "      <td>Pagamento de débitos</td>\n",
       "      <td>A</td>\n",
       "      <td>9000.0</td>\n",
       "      <td>6.54</td>\n",
       "      <td>0.0</td>\n",
       "      <td>0.17</td>\n",
       "      <td>UEGLAzYP-iRRb</td>\n",
       "      <td>0.0</td>\n",
       "      <td>6</td>\n",
       "    </tr>\n",
       "    <tr>\n",
       "      <th>11200</th>\n",
       "      <td>iFewiKtS-B65A</td>\n",
       "      <td>24.0</td>\n",
       "      <td>78000.0</td>\n",
       "      <td>Própria</td>\n",
       "      <td>8.0</td>\n",
       "      <td>8E2xoRiS-kvop</td>\n",
       "      <td>Educativo</td>\n",
       "      <td>B</td>\n",
       "      <td>25000.0</td>\n",
       "      <td>12.18</td>\n",
       "      <td>0.0</td>\n",
       "      <td>0.32</td>\n",
       "      <td>HZ73rp5F-vkIv</td>\n",
       "      <td>0.0</td>\n",
       "      <td>4</td>\n",
       "    </tr>\n",
       "    <tr>\n",
       "      <th>23884</th>\n",
       "      <td>C8it3Ins-N4im</td>\n",
       "      <td>33.0</td>\n",
       "      <td>35050.0</td>\n",
       "      <td>Hipotecada</td>\n",
       "      <td>15.0</td>\n",
       "      <td>F45JFM52-CShp</td>\n",
       "      <td>Médico</td>\n",
       "      <td>A</td>\n",
       "      <td>8000.0</td>\n",
       "      <td>8.32</td>\n",
       "      <td>1.0</td>\n",
       "      <td>0.23</td>\n",
       "      <td>2Z2cJBvd-U3ZM</td>\n",
       "      <td>0.0</td>\n",
       "      <td>6</td>\n",
       "    </tr>\n",
       "    <tr>\n",
       "      <th>7230</th>\n",
       "      <td>JDgBQKyX-ePIP</td>\n",
       "      <td>22.0</td>\n",
       "      <td>35000.0</td>\n",
       "      <td>Hipotecada</td>\n",
       "      <td>7.0</td>\n",
       "      <td>1u5yQ6k5-1rYU</td>\n",
       "      <td>Pessoal</td>\n",
       "      <td>B</td>\n",
       "      <td>3500.0</td>\n",
       "      <td>11.49</td>\n",
       "      <td>0.0</td>\n",
       "      <td>0.10</td>\n",
       "      <td>uIeq8FOd-fd7n</td>\n",
       "      <td>0.0</td>\n",
       "      <td>3</td>\n",
       "    </tr>\n",
       "    <tr>\n",
       "      <th>3180</th>\n",
       "      <td>AJTPeot4-9x6Y</td>\n",
       "      <td>33.0</td>\n",
       "      <td>79985.0</td>\n",
       "      <td>Hipotecada</td>\n",
       "      <td>6.0</td>\n",
       "      <td>6IbUdFdj-fcqH</td>\n",
       "      <td>Educativo</td>\n",
       "      <td>F</td>\n",
       "      <td>8000.0</td>\n",
       "      <td>21.36</td>\n",
       "      <td>0.0</td>\n",
       "      <td>0.10</td>\n",
       "      <td>vvJXHakA-hHJh</td>\n",
       "      <td>0.0</td>\n",
       "      <td>5</td>\n",
       "    </tr>\n",
       "  </tbody>\n",
       "</table>\n",
       "</div>"
      ],
      "text/plain": [
       "              PESSOA  IDADE  RENDIMENTO_ANUAL SITUACAO_PROPRIEDADE  \\\n",
       "22390  SWP7hYlJ-hxZN   30.0           51600.0              Alugada   \n",
       "11200  iFewiKtS-B65A   24.0           78000.0              Própria   \n",
       "23884  C8it3Ins-N4im   33.0           35050.0           Hipotecada   \n",
       "7230   JDgBQKyX-ePIP   22.0           35000.0           Hipotecada   \n",
       "3180   AJTPeot4-9x6Y   33.0           79985.0           Hipotecada   \n",
       "\n",
       "       ANOS_TRABALHADOS     EMPRESTIMO     MOTIVO_EMPRESTIMO PONTUACAO  \\\n",
       "22390               5.0  kN8n5jcA-1FGc  Pagamento de débitos         A   \n",
       "11200               8.0  8E2xoRiS-kvop             Educativo         B   \n",
       "23884              15.0  F45JFM52-CShp                Médico         A   \n",
       "7230                7.0  1u5yQ6k5-1rYU               Pessoal         B   \n",
       "3180                6.0  6IbUdFdj-fcqH             Educativo         F   \n",
       "\n",
       "       VALOR_EMPRESTIMO  JUROS  POSSIB_INADIMPLENCIA  \\\n",
       "22390            9000.0   6.54                   0.0   \n",
       "11200           25000.0  12.18                   0.0   \n",
       "23884            8000.0   8.32                   1.0   \n",
       "7230             3500.0  11.49                   0.0   \n",
       "3180             8000.0  21.36                   0.0   \n",
       "\n",
       "       EMPRESTIMO_PERC_RENDA_ANUAL    SOLICITACAO  INADIMPLENTE  \\\n",
       "22390                         0.17  UEGLAzYP-iRRb           0.0   \n",
       "11200                         0.32  HZ73rp5F-vkIv           0.0   \n",
       "23884                         0.23  2Z2cJBvd-U3ZM           0.0   \n",
       "7230                          0.10  uIeq8FOd-fd7n           0.0   \n",
       "3180                          0.10  vvJXHakA-hHJh           0.0   \n",
       "\n",
       "       ANOS_PRIMEIRO_CREDITO  \n",
       "22390                      6  \n",
       "11200                      4  \n",
       "23884                      6  \n",
       "7230                       3  \n",
       "3180                       5  "
      ]
     },
     "execution_count": 100,
     "metadata": {},
     "output_type": "execute_result"
    }
   ],
   "source": [
    "dados_brutos = pd.read_csv('tabela_aluracash.csv', sep=';')\n",
    "dados_brutos.sample(5) #amostra dos dados brutos"
   ]
  },
  {
   "cell_type": "markdown",
   "metadata": {},
   "source": [
    "### Informações do dataset"
   ]
  },
  {
   "cell_type": "markdown",
   "metadata": {},
   "source": [
    "#### Nº de linhas e colunas"
   ]
  },
  {
   "cell_type": "code",
   "execution_count": 101,
   "metadata": {},
   "outputs": [
    {
     "data": {
      "text/plain": [
       "(34485, 15)"
      ]
     },
     "execution_count": 101,
     "metadata": {},
     "output_type": "execute_result"
    }
   ],
   "source": [
    "dados_brutos.shape"
   ]
  },
  {
   "cell_type": "markdown",
   "metadata": {},
   "source": [
    "#### Colunas + tipos das colunas"
   ]
  },
  {
   "cell_type": "code",
   "execution_count": 102,
   "metadata": {},
   "outputs": [
    {
     "name": "stdout",
     "output_type": "stream",
     "text": [
      "<class 'pandas.core.frame.DataFrame'>\n",
      "RangeIndex: 34485 entries, 0 to 34484\n",
      "Data columns (total 15 columns):\n",
      " #   Column                       Non-Null Count  Dtype  \n",
      "---  ------                       --------------  -----  \n",
      " 0   PESSOA                       34485 non-null  object \n",
      " 1   IDADE                        34165 non-null  float64\n",
      " 2   RENDIMENTO_ANUAL             34150 non-null  float64\n",
      " 3   SITUACAO_PROPRIEDADE         34154 non-null  object \n",
      " 4   ANOS_TRABALHADOS             33231 non-null  float64\n",
      " 5   EMPRESTIMO                   34485 non-null  object \n",
      " 6   MOTIVO_EMPRESTIMO            34174 non-null  object \n",
      " 7   PONTUACAO                    34176 non-null  object \n",
      " 8   VALOR_EMPRESTIMO             34154 non-null  float64\n",
      " 9   JUROS                        30859 non-null  float64\n",
      " 10  POSSIB_INADIMPLENCIA         34142 non-null  float64\n",
      " 11  EMPRESTIMO_PERC_RENDA_ANUAL  34170 non-null  float64\n",
      " 12  SOLICITACAO                  34485 non-null  object \n",
      " 13  INADIMPLENTE                 34119 non-null  float64\n",
      " 14  ANOS_PRIMEIRO_CREDITO        34485 non-null  int64  \n",
      "dtypes: float64(8), int64(1), object(6)\n",
      "memory usage: 3.9+ MB\n"
     ]
    }
   ],
   "source": [
    "dados_brutos.info()"
   ]
  },
  {
   "cell_type": "markdown",
   "metadata": {},
   "source": [
    "#### Dados nulos por colunas"
   ]
  },
  {
   "cell_type": "code",
   "execution_count": 103,
   "metadata": {},
   "outputs": [
    {
     "data": {
      "text/plain": [
       "PESSOA                            0\n",
       "IDADE                           320\n",
       "RENDIMENTO_ANUAL                335\n",
       "SITUACAO_PROPRIEDADE            331\n",
       "ANOS_TRABALHADOS               1254\n",
       "EMPRESTIMO                        0\n",
       "MOTIVO_EMPRESTIMO               311\n",
       "PONTUACAO                       309\n",
       "VALOR_EMPRESTIMO                331\n",
       "JUROS                          3626\n",
       "POSSIB_INADIMPLENCIA            343\n",
       "EMPRESTIMO_PERC_RENDA_ANUAL     315\n",
       "SOLICITACAO                       0\n",
       "INADIMPLENTE                    366\n",
       "ANOS_PRIMEIRO_CREDITO             0\n",
       "dtype: int64"
      ]
     },
     "execution_count": 103,
     "metadata": {},
     "output_type": "execute_result"
    }
   ],
   "source": [
    "dados_brutos.isnull().sum()"
   ]
  },
  {
   "cell_type": "markdown",
   "metadata": {},
   "source": [
    "#### Dados vazios (tipo string) por colunas"
   ]
  },
  {
   "cell_type": "code",
   "execution_count": 104,
   "metadata": {},
   "outputs": [
    {
     "data": {
      "text/plain": [
       "PESSOA                         0\n",
       "IDADE                          0\n",
       "RENDIMENTO_ANUAL               0\n",
       "SITUACAO_PROPRIEDADE           0\n",
       "ANOS_TRABALHADOS               0\n",
       "EMPRESTIMO                     0\n",
       "MOTIVO_EMPRESTIMO              0\n",
       "PONTUACAO                      0\n",
       "VALOR_EMPRESTIMO               0\n",
       "JUROS                          0\n",
       "POSSIB_INADIMPLENCIA           0\n",
       "EMPRESTIMO_PERC_RENDA_ANUAL    0\n",
       "SOLICITACAO                    0\n",
       "INADIMPLENTE                   0\n",
       "ANOS_PRIMEIRO_CREDITO          0\n",
       "dtype: int64"
      ]
     },
     "execution_count": 104,
     "metadata": {},
     "output_type": "execute_result"
    }
   ],
   "source": [
    "(dados_brutos == '').sum()"
   ]
  },
  {
   "cell_type": "markdown",
   "metadata": {},
   "source": [
    "#### Criando um subset com as colunes necessárias"
   ]
  },
  {
   "cell_type": "code",
   "execution_count": 164,
   "metadata": {},
   "outputs": [
    {
     "data": {
      "text/html": [
       "<div>\n",
       "<style scoped>\n",
       "    .dataframe tbody tr th:only-of-type {\n",
       "        vertical-align: middle;\n",
       "    }\n",
       "\n",
       "    .dataframe tbody tr th {\n",
       "        vertical-align: top;\n",
       "    }\n",
       "\n",
       "    .dataframe thead th {\n",
       "        text-align: right;\n",
       "    }\n",
       "</style>\n",
       "<table border=\"1\" class=\"dataframe\">\n",
       "  <thead>\n",
       "    <tr style=\"text-align: right;\">\n",
       "      <th></th>\n",
       "      <th>IDADE</th>\n",
       "      <th>RENDIMENTO_ANUAL</th>\n",
       "      <th>SITUACAO_PROPRIEDADE</th>\n",
       "      <th>ANOS_TRABALHADOS</th>\n",
       "      <th>MOTIVO_EMPRESTIMO</th>\n",
       "      <th>PONTUACAO</th>\n",
       "      <th>VALOR_EMPRESTIMO</th>\n",
       "      <th>JUROS</th>\n",
       "      <th>POSSIB_INADIMPLENCIA</th>\n",
       "      <th>EMPRESTIMO_PERC_RENDA_ANUAL</th>\n",
       "      <th>INADIMPLENTE</th>\n",
       "      <th>ANOS_PRIMEIRO_CREDITO</th>\n",
       "    </tr>\n",
       "  </thead>\n",
       "  <tbody>\n",
       "    <tr>\n",
       "      <th>22732</th>\n",
       "      <td>22.0</td>\n",
       "      <td>75000.0</td>\n",
       "      <td>Alugada</td>\n",
       "      <td>2.0</td>\n",
       "      <td>Pagamento de débitos</td>\n",
       "      <td>B</td>\n",
       "      <td>21000.0</td>\n",
       "      <td>10.00</td>\n",
       "      <td>0.0</td>\n",
       "      <td>0.28</td>\n",
       "      <td>0.0</td>\n",
       "      <td>4</td>\n",
       "    </tr>\n",
       "    <tr>\n",
       "      <th>5544</th>\n",
       "      <td>25.0</td>\n",
       "      <td>253000.0</td>\n",
       "      <td>Hipotecada</td>\n",
       "      <td>5.0</td>\n",
       "      <td>Melhora do lar</td>\n",
       "      <td>F</td>\n",
       "      <td>25000.0</td>\n",
       "      <td>17.26</td>\n",
       "      <td>1.0</td>\n",
       "      <td>0.10</td>\n",
       "      <td>0.0</td>\n",
       "      <td>4</td>\n",
       "    </tr>\n",
       "    <tr>\n",
       "      <th>29805</th>\n",
       "      <td>23.0</td>\n",
       "      <td>68500.0</td>\n",
       "      <td>Hipotecada</td>\n",
       "      <td>7.0</td>\n",
       "      <td>Educativo</td>\n",
       "      <td>C</td>\n",
       "      <td>4200.0</td>\n",
       "      <td>11.66</td>\n",
       "      <td>0.0</td>\n",
       "      <td>0.06</td>\n",
       "      <td>1.0</td>\n",
       "      <td>4</td>\n",
       "    </tr>\n",
       "    <tr>\n",
       "      <th>18546</th>\n",
       "      <td>23.0</td>\n",
       "      <td>50205.0</td>\n",
       "      <td>Hipotecada</td>\n",
       "      <td>7.0</td>\n",
       "      <td>Pagamento de débitos</td>\n",
       "      <td>A</td>\n",
       "      <td>5300.0</td>\n",
       "      <td>5.42</td>\n",
       "      <td>0.0</td>\n",
       "      <td>0.11</td>\n",
       "      <td>0.0</td>\n",
       "      <td>4</td>\n",
       "    </tr>\n",
       "    <tr>\n",
       "      <th>4941</th>\n",
       "      <td>23.0</td>\n",
       "      <td>10008.0</td>\n",
       "      <td>Alugada</td>\n",
       "      <td>NaN</td>\n",
       "      <td>Pagamento de débitos</td>\n",
       "      <td>B</td>\n",
       "      <td>1600.0</td>\n",
       "      <td>10.36</td>\n",
       "      <td>1.0</td>\n",
       "      <td>0.16</td>\n",
       "      <td>0.0</td>\n",
       "      <td>2</td>\n",
       "    </tr>\n",
       "  </tbody>\n",
       "</table>\n",
       "</div>"
      ],
      "text/plain": [
       "       IDADE  RENDIMENTO_ANUAL SITUACAO_PROPRIEDADE  ANOS_TRABALHADOS  \\\n",
       "22732   22.0           75000.0              Alugada               2.0   \n",
       "5544    25.0          253000.0           Hipotecada               5.0   \n",
       "29805   23.0           68500.0           Hipotecada               7.0   \n",
       "18546   23.0           50205.0           Hipotecada               7.0   \n",
       "4941    23.0           10008.0              Alugada               NaN   \n",
       "\n",
       "          MOTIVO_EMPRESTIMO PONTUACAO  VALOR_EMPRESTIMO  JUROS  \\\n",
       "22732  Pagamento de débitos         B           21000.0  10.00   \n",
       "5544         Melhora do lar         F           25000.0  17.26   \n",
       "29805             Educativo         C            4200.0  11.66   \n",
       "18546  Pagamento de débitos         A            5300.0   5.42   \n",
       "4941   Pagamento de débitos         B            1600.0  10.36   \n",
       "\n",
       "       POSSIB_INADIMPLENCIA  EMPRESTIMO_PERC_RENDA_ANUAL  INADIMPLENTE  \\\n",
       "22732                   0.0                         0.28           0.0   \n",
       "5544                    1.0                         0.10           0.0   \n",
       "29805                   0.0                         0.06           1.0   \n",
       "18546                   0.0                         0.11           0.0   \n",
       "4941                    1.0                         0.16           0.0   \n",
       "\n",
       "       ANOS_PRIMEIRO_CREDITO  \n",
       "22732                      4  \n",
       "5544                       4  \n",
       "29805                      4  \n",
       "18546                      4  \n",
       "4941                       2  "
      ]
     },
     "execution_count": 164,
     "metadata": {},
     "output_type": "execute_result"
    }
   ],
   "source": [
    "dados = dados_brutos[[ 'IDADE', 'RENDIMENTO_ANUAL', 'SITUACAO_PROPRIEDADE',\n",
    "       'ANOS_TRABALHADOS', 'MOTIVO_EMPRESTIMO', 'PONTUACAO',\n",
    "       'VALOR_EMPRESTIMO', 'JUROS', 'POSSIB_INADIMPLENCIA',\n",
    "       'EMPRESTIMO_PERC_RENDA_ANUAL', 'INADIMPLENTE',\n",
    "       'ANOS_PRIMEIRO_CREDITO']]\n",
    "dados.sample(5)"
   ]
  },
  {
   "cell_type": "markdown",
   "metadata": {},
   "source": [
    "### Remoção de dados nulos"
   ]
  },
  {
   "cell_type": "markdown",
   "metadata": {},
   "source": [
    "Será removida linhas com 2 ou mais dados nulos."
   ]
  },
  {
   "cell_type": "code",
   "execution_count": 166,
   "metadata": {},
   "outputs": [
    {
     "data": {
      "text/html": [
       "<div>\n",
       "<style scoped>\n",
       "    .dataframe tbody tr th:only-of-type {\n",
       "        vertical-align: middle;\n",
       "    }\n",
       "\n",
       "    .dataframe tbody tr th {\n",
       "        vertical-align: top;\n",
       "    }\n",
       "\n",
       "    .dataframe thead th {\n",
       "        text-align: right;\n",
       "    }\n",
       "</style>\n",
       "<table border=\"1\" class=\"dataframe\">\n",
       "  <thead>\n",
       "    <tr style=\"text-align: right;\">\n",
       "      <th></th>\n",
       "      <th>IDADE</th>\n",
       "      <th>RENDIMENTO_ANUAL</th>\n",
       "      <th>SITUACAO_PROPRIEDADE</th>\n",
       "      <th>ANOS_TRABALHADOS</th>\n",
       "      <th>MOTIVO_EMPRESTIMO</th>\n",
       "      <th>PONTUACAO</th>\n",
       "      <th>VALOR_EMPRESTIMO</th>\n",
       "      <th>JUROS</th>\n",
       "      <th>POSSIB_INADIMPLENCIA</th>\n",
       "      <th>EMPRESTIMO_PERC_RENDA_ANUAL</th>\n",
       "      <th>INADIMPLENTE</th>\n",
       "      <th>ANOS_PRIMEIRO_CREDITO</th>\n",
       "    </tr>\n",
       "  </thead>\n",
       "  <tbody>\n",
       "    <tr>\n",
       "      <th>10297</th>\n",
       "      <td>NaN</td>\n",
       "      <td>NaN</td>\n",
       "      <td>Hipotecada</td>\n",
       "      <td>5.0</td>\n",
       "      <td>Melhora do lar</td>\n",
       "      <td>B</td>\n",
       "      <td>10000.0</td>\n",
       "      <td>10.36</td>\n",
       "      <td>0.0</td>\n",
       "      <td>0.12</td>\n",
       "      <td>0.0</td>\n",
       "      <td>4</td>\n",
       "    </tr>\n",
       "    <tr>\n",
       "      <th>2046</th>\n",
       "      <td>NaN</td>\n",
       "      <td>NaN</td>\n",
       "      <td>Alugada</td>\n",
       "      <td>0.0</td>\n",
       "      <td>Pagamento de débitos</td>\n",
       "      <td>D</td>\n",
       "      <td>18400.0</td>\n",
       "      <td>9.63</td>\n",
       "      <td>0.0</td>\n",
       "      <td>0.15</td>\n",
       "      <td>0.0</td>\n",
       "      <td>9</td>\n",
       "    </tr>\n",
       "    <tr>\n",
       "      <th>10893</th>\n",
       "      <td>NaN</td>\n",
       "      <td>NaN</td>\n",
       "      <td>Alugada</td>\n",
       "      <td>1.0</td>\n",
       "      <td>Pessoal</td>\n",
       "      <td>B</td>\n",
       "      <td>14000.0</td>\n",
       "      <td>12.42</td>\n",
       "      <td>0.0</td>\n",
       "      <td>0.27</td>\n",
       "      <td>0.0</td>\n",
       "      <td>10</td>\n",
       "    </tr>\n",
       "    <tr>\n",
       "      <th>1559</th>\n",
       "      <td>NaN</td>\n",
       "      <td>NaN</td>\n",
       "      <td>Alugada</td>\n",
       "      <td>7.0</td>\n",
       "      <td>Pessoal</td>\n",
       "      <td>C</td>\n",
       "      <td>20000.0</td>\n",
       "      <td>14.17</td>\n",
       "      <td>0.0</td>\n",
       "      <td>0.18</td>\n",
       "      <td>0.0</td>\n",
       "      <td>3</td>\n",
       "    </tr>\n",
       "    <tr>\n",
       "      <th>29089</th>\n",
       "      <td>NaN</td>\n",
       "      <td>NaN</td>\n",
       "      <td>Hipotecada</td>\n",
       "      <td>11.0</td>\n",
       "      <td>Empreendimento</td>\n",
       "      <td>A</td>\n",
       "      <td>8800.0</td>\n",
       "      <td>7.51</td>\n",
       "      <td>0.0</td>\n",
       "      <td>0.15</td>\n",
       "      <td>0.0</td>\n",
       "      <td>9</td>\n",
       "    </tr>\n",
       "  </tbody>\n",
       "</table>\n",
       "</div>"
      ],
      "text/plain": [
       "       IDADE  RENDIMENTO_ANUAL SITUACAO_PROPRIEDADE  ANOS_TRABALHADOS  \\\n",
       "10297    NaN               NaN           Hipotecada               5.0   \n",
       "2046     NaN               NaN              Alugada               0.0   \n",
       "10893    NaN               NaN              Alugada               1.0   \n",
       "1559     NaN               NaN              Alugada               7.0   \n",
       "29089    NaN               NaN           Hipotecada              11.0   \n",
       "\n",
       "          MOTIVO_EMPRESTIMO PONTUACAO  VALOR_EMPRESTIMO  JUROS  \\\n",
       "10297        Melhora do lar         B           10000.0  10.36   \n",
       "2046   Pagamento de débitos         D           18400.0   9.63   \n",
       "10893               Pessoal         B           14000.0  12.42   \n",
       "1559                Pessoal         C           20000.0  14.17   \n",
       "29089        Empreendimento         A            8800.0   7.51   \n",
       "\n",
       "       POSSIB_INADIMPLENCIA  EMPRESTIMO_PERC_RENDA_ANUAL  INADIMPLENTE  \\\n",
       "10297                   0.0                         0.12           0.0   \n",
       "2046                    0.0                         0.15           0.0   \n",
       "10893                   0.0                         0.27           0.0   \n",
       "1559                    0.0                         0.18           0.0   \n",
       "29089                   0.0                         0.15           0.0   \n",
       "\n",
       "       ANOS_PRIMEIRO_CREDITO  \n",
       "10297                      4  \n",
       "2046                       9  \n",
       "10893                     10  \n",
       "1559                       3  \n",
       "29089                      9  "
      ]
     },
     "execution_count": 166,
     "metadata": {},
     "output_type": "execute_result"
    }
   ],
   "source": [
    "dados_nulos = dados[dados[['IDADE', 'RENDIMENTO_ANUAL']].isnull().all(1)]\n",
    "dados_nulos.sample(5)"
   ]
  },
  {
   "cell_type": "code",
   "execution_count": 167,
   "metadata": {},
   "outputs": [
    {
     "data": {
      "text/plain": [
       "(34449, 12)"
      ]
     },
     "execution_count": 167,
     "metadata": {},
     "output_type": "execute_result"
    }
   ],
   "source": [
    "dados = dados.drop(dados_nulos.index)\n",
    "dados.shape"
   ]
  },
  {
   "cell_type": "code",
   "execution_count": 168,
   "metadata": {},
   "outputs": [
    {
     "data": {
      "text/plain": [
       "(34421, 12)"
      ]
     },
     "execution_count": 168,
     "metadata": {},
     "output_type": "execute_result"
    }
   ],
   "source": [
    "dados_nulos = dados[dados[['IDADE', 'SITUACAO_PROPRIEDADE']].isnull().all(1)]\n",
    "dados = dados.drop(dados_nulos.index)\n",
    "dados.shape"
   ]
  },
  {
   "cell_type": "code",
   "execution_count": 169,
   "metadata": {},
   "outputs": [
    {
     "data": {
      "text/plain": [
       "(34381, 12)"
      ]
     },
     "execution_count": 169,
     "metadata": {},
     "output_type": "execute_result"
    }
   ],
   "source": [
    "dados_nulos = dados[dados[['IDADE', 'ANOS_TRABALHADOS']].isnull().all(1)]\n",
    "dados = dados.drop(dados_nulos.index)\n",
    "dados.shape"
   ]
  },
  {
   "cell_type": "code",
   "execution_count": 170,
   "metadata": {},
   "outputs": [
    {
     "data": {
      "text/plain": [
       "(34357, 12)"
      ]
     },
     "execution_count": 170,
     "metadata": {},
     "output_type": "execute_result"
    }
   ],
   "source": [
    "dados_nulos = dados[dados[['IDADE', 'MOTIVO_EMPRESTIMO']].isnull().all(1)]\n",
    "dados = dados.drop(dados_nulos.index)\n",
    "dados.shape"
   ]
  },
  {
   "cell_type": "code",
   "execution_count": 171,
   "metadata": {},
   "outputs": [
    {
     "data": {
      "text/plain": [
       "(34334, 12)"
      ]
     },
     "execution_count": 171,
     "metadata": {},
     "output_type": "execute_result"
    }
   ],
   "source": [
    "dados_nulos = dados[dados[['IDADE', 'PONTUACAO']].isnull().all(1)]\n",
    "dados = dados.drop(dados_nulos.index)\n",
    "dados.shape"
   ]
  },
  {
   "cell_type": "code",
   "execution_count": 172,
   "metadata": {},
   "outputs": [
    {
     "data": {
      "text/plain": [
       "(34303, 12)"
      ]
     },
     "execution_count": 172,
     "metadata": {},
     "output_type": "execute_result"
    }
   ],
   "source": [
    "dados_nulos = dados[dados[['IDADE', 'VALOR_EMPRESTIMO']].isnull().all(1)]\n",
    "dados = dados.drop(dados_nulos.index)\n",
    "dados.shape"
   ]
  },
  {
   "cell_type": "code",
   "execution_count": 173,
   "metadata": {},
   "outputs": [
    {
     "data": {
      "text/plain": [
       "(34267, 12)"
      ]
     },
     "execution_count": 173,
     "metadata": {},
     "output_type": "execute_result"
    }
   ],
   "source": [
    "dados_nulos = dados[dados[['IDADE', 'JUROS']].isnull().all(1)]\n",
    "dados = dados.drop(dados_nulos.index)\n",
    "dados.shape"
   ]
  },
  {
   "cell_type": "code",
   "execution_count": 174,
   "metadata": {},
   "outputs": [
    {
     "data": {
      "text/plain": [
       "(34238, 12)"
      ]
     },
     "execution_count": 174,
     "metadata": {},
     "output_type": "execute_result"
    }
   ],
   "source": [
    "dados_nulos = dados[dados[['IDADE', 'POSSIB_INADIMPLENCIA']].isnull().all(1)]\n",
    "dados = dados.drop(dados_nulos.index)\n",
    "dados.shape"
   ]
  },
  {
   "cell_type": "code",
   "execution_count": 175,
   "metadata": {},
   "outputs": [
    {
     "data": {
      "text/plain": [
       "(34214, 12)"
      ]
     },
     "execution_count": 175,
     "metadata": {},
     "output_type": "execute_result"
    }
   ],
   "source": [
    "dados_nulos = dados[dados[['IDADE', 'EMPRESTIMO_PERC_RENDA_ANUAL']].isnull().all(1)]\n",
    "dados = dados.drop(dados_nulos.index)\n",
    "dados.shape"
   ]
  },
  {
   "cell_type": "code",
   "execution_count": 176,
   "metadata": {},
   "outputs": [
    {
     "data": {
      "text/plain": [
       "(34181, 12)"
      ]
     },
     "execution_count": 176,
     "metadata": {},
     "output_type": "execute_result"
    }
   ],
   "source": [
    "dados_nulos = dados[dados[['IDADE', 'INADIMPLENTE']].isnull().all(1)]\n",
    "dados = dados.drop(dados_nulos.index)\n",
    "dados.shape"
   ]
  },
  {
   "cell_type": "code",
   "execution_count": 177,
   "metadata": {},
   "outputs": [
    {
     "data": {
      "text/plain": [
       "(34181, 12)"
      ]
     },
     "execution_count": 177,
     "metadata": {},
     "output_type": "execute_result"
    }
   ],
   "source": [
    "dados_nulos = dados[dados[['IDADE', 'ANOS_PRIMEIRO_CREDITO']].isnull().all(1)]\n",
    "dados = dados.drop(dados_nulos.index)\n",
    "dados.shape"
   ]
  },
  {
   "cell_type": "code",
   "execution_count": 179,
   "metadata": {},
   "outputs": [
    {
     "data": {
      "text/plain": [
       "(34119, 12)"
      ]
     },
     "execution_count": 179,
     "metadata": {},
     "output_type": "execute_result"
    }
   ],
   "source": [
    "dados_nulos = dados[dados[['RENDIMENTO_ANUAL', 'SITUACAO_PROPRIEDADE']].isnull().all(1)]\n",
    "dados = dados.drop(dados_nulos.index)\n",
    "\n",
    "dados_nulos = dados[dados[['RENDIMENTO_ANUAL', 'ANOS_TRABALHADOS']].isnull().all(1)]\n",
    "dados = dados.drop(dados_nulos.index)\n",
    "\n",
    "dados_nulos = dados[dados[['RENDIMENTO_ANUAL', 'MOTIVO_EMPRESTIMO']].isnull().all(1)]\n",
    "dados = dados.drop(dados_nulos.index)\n",
    "\n",
    "dados.shape"
   ]
  },
  {
   "cell_type": "code",
   "execution_count": 178,
   "metadata": {},
   "outputs": [
    {
     "data": {
      "text/plain": [
       "['IDADE',\n",
       " 'RENDIMENTO_ANUAL',\n",
       " 'SITUACAO_PROPRIEDADE',\n",
       " 'ANOS_TRABALHADOS',\n",
       " 'MOTIVO_EMPRESTIMO',\n",
       " 'PONTUACAO',\n",
       " 'VALOR_EMPRESTIMO',\n",
       " 'JUROS',\n",
       " 'POSSIB_INADIMPLENCIA',\n",
       " 'EMPRESTIMO_PERC_RENDA_ANUAL',\n",
       " 'INADIMPLENTE',\n",
       " 'ANOS_PRIMEIRO_CREDITO']"
      ]
     },
     "execution_count": 178,
     "metadata": {},
     "output_type": "execute_result"
    }
   ],
   "source": [
    "[ 'RENDIMENTO_ANUAL', 'SITUACAO_PROPRIEDADE',\n",
    "       'ANOS_TRABALHADOS', 'MOTIVO_EMPRESTIMO', 'PONTUACAO',\n",
    "       'VALOR_EMPRESTIMO', 'JUROS', 'POSSIB_INADIMPLENCIA',\n",
    "       'EMPRESTIMO_PERC_RENDA_ANUAL', 'INADIMPLENTE',\n",
    "       'ANOS_PRIMEIRO_CREDITO']"
   ]
  },
  {
   "cell_type": "markdown",
   "metadata": {},
   "source": [
    "Analisando as variáveis categóricas."
   ]
  },
  {
   "cell_type": "markdown",
   "metadata": {},
   "source": [
    "#### SITUACAO_PROPRIEDADE"
   ]
  },
  {
   "cell_type": "code",
   "execution_count": 51,
   "metadata": {},
   "outputs": [
    {
     "data": {
      "text/plain": [
       "array(['Alugada', 'Hipotecada', 'Outros', 'Própria', nan], dtype=object)"
      ]
     },
     "execution_count": 51,
     "metadata": {},
     "output_type": "execute_result"
    }
   ],
   "source": [
    "dados['SITUACAO_PROPRIEDADE'].sort_values().unique()"
   ]
  },
  {
   "cell_type": "markdown",
   "metadata": {},
   "source": [
    "Foi preferível preencher os dados nulos com 'Desconhecida'."
   ]
  },
  {
   "cell_type": "code",
   "execution_count": 52,
   "metadata": {},
   "outputs": [
    {
     "data": {
      "text/plain": [
       "Alugada         49.978251\n",
       "Hipotecada      40.864144\n",
       "Própria          7.878788\n",
       "Desconhecida     0.959838\n",
       "Outros           0.318979\n",
       "Name: SITUACAO_PROPRIEDADE, dtype: float64"
      ]
     },
     "execution_count": 52,
     "metadata": {},
     "output_type": "execute_result"
    }
   ],
   "source": [
    "dados['SITUACAO_PROPRIEDADE'] = dados['SITUACAO_PROPRIEDADE'].fillna('Desconhecida')\n",
    "dados['SITUACAO_PROPRIEDADE'].value_counts(normalize = True) *100"
   ]
  },
  {
   "cell_type": "markdown",
   "metadata": {},
   "source": [
    "#### MOTIVO_EMPRESTIMO"
   ]
  },
  {
   "cell_type": "code",
   "execution_count": 53,
   "metadata": {},
   "outputs": [
    {
     "data": {
      "text/plain": [
       "array(['Educativo', 'Empreendimento', 'Melhora do lar', 'Médico',\n",
       "       'Pagamento de débitos', 'Pessoal', nan], dtype=object)"
      ]
     },
     "execution_count": 53,
     "metadata": {},
     "output_type": "execute_result"
    }
   ],
   "source": [
    "dados['MOTIVO_EMPRESTIMO'].sort_values().unique()"
   ]
  },
  {
   "cell_type": "code",
   "execution_count": 54,
   "metadata": {},
   "outputs": [
    {
     "data": {
      "text/plain": [
       "Educativo               19.631724\n",
       "Médico                  18.500797\n",
       "Empreendimento          17.332173\n",
       "Pessoal                 16.766710\n",
       "Pagamento de débitos    15.879368\n",
       "Melhora do lar          10.987386\n",
       "Desconhecido             0.901841\n",
       "Name: MOTIVO_EMPRESTIMO, dtype: float64"
      ]
     },
     "execution_count": 54,
     "metadata": {},
     "output_type": "execute_result"
    }
   ],
   "source": [
    "dados['MOTIVO_EMPRESTIMO'] = dados['MOTIVO_EMPRESTIMO'].fillna('Desconhecido')\n",
    "dados['MOTIVO_EMPRESTIMO'].value_counts(normalize = True) *100"
   ]
  },
  {
   "cell_type": "markdown",
   "metadata": {},
   "source": [
    "#### PONTUACAO"
   ]
  },
  {
   "cell_type": "code",
   "execution_count": 55,
   "metadata": {},
   "outputs": [
    {
     "data": {
      "text/plain": [
       "array(['A', 'B', 'C', 'D', 'E', 'F', 'G', nan], dtype=object)"
      ]
     },
     "execution_count": 55,
     "metadata": {},
     "output_type": "execute_result"
    }
   ],
   "source": [
    "dados['PONTUACAO'].sort_values().unique()"
   ]
  },
  {
   "cell_type": "markdown",
   "metadata": {},
   "source": [
    "Foi criada a categoria 'X' para a coluna **PONTUACAO**."
   ]
  },
  {
   "cell_type": "code",
   "execution_count": 57,
   "metadata": {},
   "outputs": [
    {
     "data": {
      "text/plain": [
       "A    32.834566\n",
       "B    31.764535\n",
       "C    19.617225\n",
       "D    11.048282\n",
       "E     2.917210\n",
       "X     0.896042\n",
       "F     0.736552\n",
       "G     0.185588\n",
       "Name: PONTUACAO, dtype: float64"
      ]
     },
     "execution_count": 57,
     "metadata": {},
     "output_type": "execute_result"
    }
   ],
   "source": [
    "dados['PONTUACAO'] = dados['PONTUACAO'].fillna('X')\n",
    "dados['PONTUACAO'].value_counts(normalize = True) *100"
   ]
  },
  {
   "cell_type": "markdown",
   "metadata": {},
   "source": [
    "Analisando as variáveis numéricas."
   ]
  },
  {
   "cell_type": "code",
   "execution_count": 58,
   "metadata": {},
   "outputs": [
    {
     "data": {
      "text/plain": [
       "IDADE                             0\n",
       "RENDIMENTO_ANUAL                335\n",
       "SITUACAO_PROPRIEDADE              0\n",
       "ANOS_TRABALHADOS               1254\n",
       "MOTIVO_EMPRESTIMO                 0\n",
       "PONTUACAO                         0\n",
       "VALOR_EMPRESTIMO                331\n",
       "JUROS                          3626\n",
       "POSSIB_INADIMPLENCIA            343\n",
       "EMPRESTIMO_PERC_RENDA_ANUAL     315\n",
       "INADIMPLENTE                    366\n",
       "ANOS_PRIMEIRO_CREDITO             0\n",
       "dtype: int64"
      ]
     },
     "execution_count": 58,
     "metadata": {},
     "output_type": "execute_result"
    }
   ],
   "source": [
    "dados.isnull().sum()"
   ]
  },
  {
   "cell_type": "markdown",
   "metadata": {},
   "source": [
    "Os dados nulos foram preenchidos utilizando o método 'ffill'."
   ]
  },
  {
   "cell_type": "code",
   "execution_count": 59,
   "metadata": {},
   "outputs": [
    {
     "data": {
      "text/plain": [
       "IDADE                          0\n",
       "RENDIMENTO_ANUAL               0\n",
       "SITUACAO_PROPRIEDADE           0\n",
       "ANOS_TRABALHADOS               0\n",
       "MOTIVO_EMPRESTIMO              0\n",
       "PONTUACAO                      0\n",
       "VALOR_EMPRESTIMO               0\n",
       "JUROS                          0\n",
       "POSSIB_INADIMPLENCIA           0\n",
       "EMPRESTIMO_PERC_RENDA_ANUAL    0\n",
       "INADIMPLENTE                   0\n",
       "ANOS_PRIMEIRO_CREDITO          0\n",
       "dtype: int64"
      ]
     },
     "execution_count": 59,
     "metadata": {},
     "output_type": "execute_result"
    }
   ],
   "source": [
    "dados = dados.fillna(method=\"ffill\")\n",
    "dados.isnull().sum()"
   ]
  },
  {
   "cell_type": "markdown",
   "metadata": {},
   "source": [
    "### Tratamento de outliers"
   ]
  },
  {
   "cell_type": "markdown",
   "metadata": {},
   "source": [
    "A variáveis categórias não serão tratadas aqui."
   ]
  },
  {
   "cell_type": "markdown",
   "metadata": {},
   "source": [
    "#### IDADE"
   ]
  },
  {
   "cell_type": "code",
   "execution_count": 60,
   "metadata": {},
   "outputs": [
    {
     "data": {
      "text/plain": [
       "array([ 20.,  21.,  22.,  23.,  24.,  25.,  26.,  27.,  28.,  29.,  30.,\n",
       "        31.,  32.,  33.,  34.,  35.,  36.,  37.,  38.,  39.,  40.,  41.,\n",
       "        42.,  43.,  44.,  45.,  46.,  47.,  48.,  49.,  50.,  51.,  52.,\n",
       "        53.,  54.,  55.,  56.,  57.,  58.,  59.,  60.,  61.,  62.,  63.,\n",
       "        64.,  65.,  66.,  67.,  69.,  70.,  73.,  76.,  78.,  80.,  84.,\n",
       "        94., 123., 144.])"
      ]
     },
     "execution_count": 60,
     "metadata": {},
     "output_type": "execute_result"
    }
   ],
   "source": [
    "dados['IDADE'].sort_values().unique()"
   ]
  },
  {
   "cell_type": "markdown",
   "metadata": {},
   "source": [
    "Foi detectada idades superior a 120 anos."
   ]
  },
  {
   "cell_type": "code",
   "execution_count": 61,
   "metadata": {},
   "outputs": [
    {
     "data": {
      "text/html": [
       "<div>\n",
       "<style scoped>\n",
       "    .dataframe tbody tr th:only-of-type {\n",
       "        vertical-align: middle;\n",
       "    }\n",
       "\n",
       "    .dataframe tbody tr th {\n",
       "        vertical-align: top;\n",
       "    }\n",
       "\n",
       "    .dataframe thead th {\n",
       "        text-align: right;\n",
       "    }\n",
       "</style>\n",
       "<table border=\"1\" class=\"dataframe\">\n",
       "  <thead>\n",
       "    <tr style=\"text-align: right;\">\n",
       "      <th></th>\n",
       "      <th>IDADE</th>\n",
       "      <th>RENDIMENTO_ANUAL</th>\n",
       "      <th>SITUACAO_PROPRIEDADE</th>\n",
       "      <th>ANOS_TRABALHADOS</th>\n",
       "      <th>MOTIVO_EMPRESTIMO</th>\n",
       "      <th>PONTUACAO</th>\n",
       "      <th>VALOR_EMPRESTIMO</th>\n",
       "      <th>JUROS</th>\n",
       "      <th>POSSIB_INADIMPLENCIA</th>\n",
       "      <th>EMPRESTIMO_PERC_RENDA_ANUAL</th>\n",
       "      <th>INADIMPLENTE</th>\n",
       "      <th>ANOS_PRIMEIRO_CREDITO</th>\n",
       "    </tr>\n",
       "  </thead>\n",
       "  <tbody>\n",
       "    <tr>\n",
       "      <th>12360</th>\n",
       "      <td>144.0</td>\n",
       "      <td>6000000.0</td>\n",
       "      <td>Hipotecada</td>\n",
       "      <td>12.0</td>\n",
       "      <td>Pessoal</td>\n",
       "      <td>C</td>\n",
       "      <td>5000.0</td>\n",
       "      <td>12.73</td>\n",
       "      <td>0.0</td>\n",
       "      <td>0.00</td>\n",
       "      <td>0.0</td>\n",
       "      <td>25</td>\n",
       "    </tr>\n",
       "    <tr>\n",
       "      <th>18648</th>\n",
       "      <td>123.0</td>\n",
       "      <td>80004.0</td>\n",
       "      <td>Alugada</td>\n",
       "      <td>2.0</td>\n",
       "      <td>Educativo</td>\n",
       "      <td>B</td>\n",
       "      <td>20400.0</td>\n",
       "      <td>10.25</td>\n",
       "      <td>0.0</td>\n",
       "      <td>0.25</td>\n",
       "      <td>0.0</td>\n",
       "      <td>3</td>\n",
       "    </tr>\n",
       "    <tr>\n",
       "      <th>19597</th>\n",
       "      <td>144.0</td>\n",
       "      <td>200000.0</td>\n",
       "      <td>Hipotecada</td>\n",
       "      <td>4.0</td>\n",
       "      <td>Educativo</td>\n",
       "      <td>B</td>\n",
       "      <td>6000.0</td>\n",
       "      <td>11.86</td>\n",
       "      <td>0.0</td>\n",
       "      <td>0.03</td>\n",
       "      <td>0.0</td>\n",
       "      <td>2</td>\n",
       "    </tr>\n",
       "    <tr>\n",
       "      <th>23469</th>\n",
       "      <td>123.0</td>\n",
       "      <td>78000.0</td>\n",
       "      <td>Alugada</td>\n",
       "      <td>7.0</td>\n",
       "      <td>Empreendimento</td>\n",
       "      <td>B</td>\n",
       "      <td>20000.0</td>\n",
       "      <td>9.70</td>\n",
       "      <td>0.0</td>\n",
       "      <td>0.26</td>\n",
       "      <td>0.0</td>\n",
       "      <td>4</td>\n",
       "    </tr>\n",
       "    <tr>\n",
       "      <th>32584</th>\n",
       "      <td>144.0</td>\n",
       "      <td>250000.0</td>\n",
       "      <td>Alugada</td>\n",
       "      <td>4.0</td>\n",
       "      <td>Empreendimento</td>\n",
       "      <td>C</td>\n",
       "      <td>4800.0</td>\n",
       "      <td>13.57</td>\n",
       "      <td>0.0</td>\n",
       "      <td>0.02</td>\n",
       "      <td>0.0</td>\n",
       "      <td>3</td>\n",
       "    </tr>\n",
       "  </tbody>\n",
       "</table>\n",
       "</div>"
      ],
      "text/plain": [
       "       IDADE  RENDIMENTO_ANUAL SITUACAO_PROPRIEDADE  ANOS_TRABALHADOS  \\\n",
       "12360  144.0         6000000.0           Hipotecada              12.0   \n",
       "18648  123.0           80004.0              Alugada               2.0   \n",
       "19597  144.0          200000.0           Hipotecada               4.0   \n",
       "23469  123.0           78000.0              Alugada               7.0   \n",
       "32584  144.0          250000.0              Alugada               4.0   \n",
       "\n",
       "      MOTIVO_EMPRESTIMO PONTUACAO  VALOR_EMPRESTIMO  JUROS  \\\n",
       "12360           Pessoal         C            5000.0  12.73   \n",
       "18648         Educativo         B           20400.0  10.25   \n",
       "19597         Educativo         B            6000.0  11.86   \n",
       "23469    Empreendimento         B           20000.0   9.70   \n",
       "32584    Empreendimento         C            4800.0  13.57   \n",
       "\n",
       "       POSSIB_INADIMPLENCIA  EMPRESTIMO_PERC_RENDA_ANUAL  INADIMPLENTE  \\\n",
       "12360                   0.0                         0.00           0.0   \n",
       "18648                   0.0                         0.25           0.0   \n",
       "19597                   0.0                         0.03           0.0   \n",
       "23469                   0.0                         0.26           0.0   \n",
       "32584                   0.0                         0.02           0.0   \n",
       "\n",
       "       ANOS_PRIMEIRO_CREDITO  \n",
       "12360                     25  \n",
       "18648                      3  \n",
       "19597                      2  \n",
       "23469                      4  \n",
       "32584                      3  "
      ]
     },
     "execution_count": 61,
     "metadata": {},
     "output_type": "execute_result"
    }
   ],
   "source": [
    "dados[dados['IDADE'] > 120]"
   ]
  },
  {
   "cell_type": "markdown",
   "metadata": {},
   "source": [
    "O peso de 5 linhas num dataset de mais de 34 mil linhas é extremamente pequeno, essas linhas foram excuídas."
   ]
  },
  {
   "cell_type": "code",
   "execution_count": 67,
   "metadata": {},
   "outputs": [
    {
     "data": {
      "text/html": [
       "<div>\n",
       "<style scoped>\n",
       "    .dataframe tbody tr th:only-of-type {\n",
       "        vertical-align: middle;\n",
       "    }\n",
       "\n",
       "    .dataframe tbody tr th {\n",
       "        vertical-align: top;\n",
       "    }\n",
       "\n",
       "    .dataframe thead th {\n",
       "        text-align: right;\n",
       "    }\n",
       "</style>\n",
       "<table border=\"1\" class=\"dataframe\">\n",
       "  <thead>\n",
       "    <tr style=\"text-align: right;\">\n",
       "      <th></th>\n",
       "      <th>IDADE</th>\n",
       "      <th>RENDIMENTO_ANUAL</th>\n",
       "      <th>SITUACAO_PROPRIEDADE</th>\n",
       "      <th>ANOS_TRABALHADOS</th>\n",
       "      <th>MOTIVO_EMPRESTIMO</th>\n",
       "      <th>PONTUACAO</th>\n",
       "      <th>VALOR_EMPRESTIMO</th>\n",
       "      <th>JUROS</th>\n",
       "      <th>POSSIB_INADIMPLENCIA</th>\n",
       "      <th>EMPRESTIMO_PERC_RENDA_ANUAL</th>\n",
       "      <th>INADIMPLENTE</th>\n",
       "      <th>ANOS_PRIMEIRO_CREDITO</th>\n",
       "    </tr>\n",
       "  </thead>\n",
       "  <tbody>\n",
       "  </tbody>\n",
       "</table>\n",
       "</div>"
      ],
      "text/plain": [
       "Empty DataFrame\n",
       "Columns: [IDADE, RENDIMENTO_ANUAL, SITUACAO_PROPRIEDADE, ANOS_TRABALHADOS, MOTIVO_EMPRESTIMO, PONTUACAO, VALOR_EMPRESTIMO, JUROS, POSSIB_INADIMPLENCIA, EMPRESTIMO_PERC_RENDA_ANUAL, INADIMPLENTE, ANOS_PRIMEIRO_CREDITO]\n",
       "Index: []"
      ]
     },
     "execution_count": 67,
     "metadata": {},
     "output_type": "execute_result"
    }
   ],
   "source": [
    "dados = dados.drop(dados[dados['IDADE'] > 120].index)\n",
    "dados[dados['IDADE'] > 120]"
   ]
  },
  {
   "cell_type": "markdown",
   "metadata": {},
   "source": [
    "#### RENDIMENTO_ANUAL"
   ]
  },
  {
   "cell_type": "code",
   "execution_count": 69,
   "metadata": {},
   "outputs": [
    {
     "data": {
      "text/plain": [
       "array([   4000.,    4080.,    4200., ..., 1782000., 1900000., 2039784.])"
      ]
     },
     "execution_count": 69,
     "metadata": {},
     "output_type": "execute_result"
    }
   ],
   "source": [
    "dados['RENDIMENTO_ANUAL'].sort_values().unique()"
   ]
  },
  {
   "cell_type": "code",
   "execution_count": 86,
   "metadata": {},
   "outputs": [
    {
     "data": {
      "image/png": "[encoded data removed]",
      "text/plain": [
       "<Figure size 1440x432 with 1 Axes>"
      ]
     },
     "metadata": {
      "needs_background": "light"
     },
     "output_type": "display_data"
    }
   ],
   "source": [
    "ax = sns.boxplot(x=dados['RENDIMENTO_ANUAL'])\n",
    "ax.figure.set_size_inches(20, 6)"
   ]
  },
  {
   "cell_type": "code",
   "execution_count": 90,
   "metadata": {},
   "outputs": [
    {
     "data": {
      "text/html": [
       "<div>\n",
       "<style scoped>\n",
       "    .dataframe tbody tr th:only-of-type {\n",
       "        vertical-align: middle;\n",
       "    }\n",
       "\n",
       "    .dataframe tbody tr th {\n",
       "        vertical-align: top;\n",
       "    }\n",
       "\n",
       "    .dataframe thead th {\n",
       "        text-align: right;\n",
       "    }\n",
       "</style>\n",
       "<table border=\"1\" class=\"dataframe\">\n",
       "  <thead>\n",
       "    <tr style=\"text-align: right;\">\n",
       "      <th></th>\n",
       "      <th>IDADE</th>\n",
       "      <th>RENDIMENTO_ANUAL</th>\n",
       "      <th>SITUACAO_PROPRIEDADE</th>\n",
       "      <th>ANOS_TRABALHADOS</th>\n",
       "      <th>MOTIVO_EMPRESTIMO</th>\n",
       "      <th>PONTUACAO</th>\n",
       "      <th>VALOR_EMPRESTIMO</th>\n",
       "      <th>JUROS</th>\n",
       "      <th>POSSIB_INADIMPLENCIA</th>\n",
       "      <th>EMPRESTIMO_PERC_RENDA_ANUAL</th>\n",
       "      <th>INADIMPLENTE</th>\n",
       "      <th>ANOS_PRIMEIRO_CREDITO</th>\n",
       "    </tr>\n",
       "  </thead>\n",
       "  <tbody>\n",
       "    <tr>\n",
       "      <th>205</th>\n",
       "      <td>33.0</td>\n",
       "      <td>612000.0</td>\n",
       "      <td>Alugada</td>\n",
       "      <td>3.0</td>\n",
       "      <td>Médico</td>\n",
       "      <td>C</td>\n",
       "      <td>5950.0</td>\n",
       "      <td>12.73</td>\n",
       "      <td>0.0</td>\n",
       "      <td>0.01</td>\n",
       "      <td>1.0</td>\n",
       "      <td>10</td>\n",
       "    </tr>\n",
       "    <tr>\n",
       "      <th>297</th>\n",
       "      <td>30.0</td>\n",
       "      <td>270000.0</td>\n",
       "      <td>Hipotecada</td>\n",
       "      <td>7.0</td>\n",
       "      <td>Melhora do lar</td>\n",
       "      <td>E</td>\n",
       "      <td>35000.0</td>\n",
       "      <td>19.69</td>\n",
       "      <td>0.0</td>\n",
       "      <td>0.13</td>\n",
       "      <td>0.0</td>\n",
       "      <td>8</td>\n",
       "    </tr>\n",
       "    <tr>\n",
       "      <th>309</th>\n",
       "      <td>31.0</td>\n",
       "      <td>258000.0</td>\n",
       "      <td>Hipotecada</td>\n",
       "      <td>3.0</td>\n",
       "      <td>Pessoal</td>\n",
       "      <td>A</td>\n",
       "      <td>28000.0</td>\n",
       "      <td>5.99</td>\n",
       "      <td>0.0</td>\n",
       "      <td>0.11</td>\n",
       "      <td>0.0</td>\n",
       "      <td>5</td>\n",
       "    </tr>\n",
       "    <tr>\n",
       "      <th>347</th>\n",
       "      <td>43.0</td>\n",
       "      <td>350000.0</td>\n",
       "      <td>Hipotecada</td>\n",
       "      <td>3.0</td>\n",
       "      <td>Pessoal</td>\n",
       "      <td>B</td>\n",
       "      <td>18000.0</td>\n",
       "      <td>11.49</td>\n",
       "      <td>0.0</td>\n",
       "      <td>0.05</td>\n",
       "      <td>0.0</td>\n",
       "      <td>14</td>\n",
       "    </tr>\n",
       "    <tr>\n",
       "      <th>368</th>\n",
       "      <td>35.0</td>\n",
       "      <td>280000.0</td>\n",
       "      <td>Hipotecada</td>\n",
       "      <td>19.0</td>\n",
       "      <td>Melhora do lar</td>\n",
       "      <td>C</td>\n",
       "      <td>21600.0</td>\n",
       "      <td>12.99</td>\n",
       "      <td>0.0</td>\n",
       "      <td>0.08</td>\n",
       "      <td>0.0</td>\n",
       "      <td>8</td>\n",
       "    </tr>\n",
       "    <tr>\n",
       "      <th>...</th>\n",
       "      <td>...</td>\n",
       "      <td>...</td>\n",
       "      <td>...</td>\n",
       "      <td>...</td>\n",
       "      <td>...</td>\n",
       "      <td>...</td>\n",
       "      <td>...</td>\n",
       "      <td>...</td>\n",
       "      <td>...</td>\n",
       "      <td>...</td>\n",
       "      <td>...</td>\n",
       "      <td>...</td>\n",
       "    </tr>\n",
       "    <tr>\n",
       "      <th>33036</th>\n",
       "      <td>23.0</td>\n",
       "      <td>500000.0</td>\n",
       "      <td>Hipotecada</td>\n",
       "      <td>7.0</td>\n",
       "      <td>Pagamento de débitos</td>\n",
       "      <td>B</td>\n",
       "      <td>30000.0</td>\n",
       "      <td>10.65</td>\n",
       "      <td>0.0</td>\n",
       "      <td>0.06</td>\n",
       "      <td>0.0</td>\n",
       "      <td>3</td>\n",
       "    </tr>\n",
       "    <tr>\n",
       "      <th>33199</th>\n",
       "      <td>26.0</td>\n",
       "      <td>280000.0</td>\n",
       "      <td>Alugada</td>\n",
       "      <td>4.0</td>\n",
       "      <td>Pessoal</td>\n",
       "      <td>C</td>\n",
       "      <td>10000.0</td>\n",
       "      <td>15.96</td>\n",
       "      <td>0.0</td>\n",
       "      <td>0.04</td>\n",
       "      <td>1.0</td>\n",
       "      <td>3</td>\n",
       "    </tr>\n",
       "    <tr>\n",
       "      <th>33524</th>\n",
       "      <td>28.0</td>\n",
       "      <td>266000.0</td>\n",
       "      <td>Hipotecada</td>\n",
       "      <td>12.0</td>\n",
       "      <td>Pessoal</td>\n",
       "      <td>A</td>\n",
       "      <td>9000.0</td>\n",
       "      <td>5.42</td>\n",
       "      <td>0.0</td>\n",
       "      <td>0.03</td>\n",
       "      <td>0.0</td>\n",
       "      <td>10</td>\n",
       "    </tr>\n",
       "    <tr>\n",
       "      <th>33815</th>\n",
       "      <td>23.0</td>\n",
       "      <td>300000.0</td>\n",
       "      <td>Hipotecada</td>\n",
       "      <td>5.0</td>\n",
       "      <td>Educativo</td>\n",
       "      <td>D</td>\n",
       "      <td>10000.0</td>\n",
       "      <td>15.65</td>\n",
       "      <td>0.0</td>\n",
       "      <td>0.03</td>\n",
       "      <td>1.0</td>\n",
       "      <td>2</td>\n",
       "    </tr>\n",
       "    <tr>\n",
       "      <th>33858</th>\n",
       "      <td>32.0</td>\n",
       "      <td>348000.0</td>\n",
       "      <td>Hipotecada</td>\n",
       "      <td>16.0</td>\n",
       "      <td>Médico</td>\n",
       "      <td>B</td>\n",
       "      <td>25000.0</td>\n",
       "      <td>11.83</td>\n",
       "      <td>0.0</td>\n",
       "      <td>0.07</td>\n",
       "      <td>0.0</td>\n",
       "      <td>8</td>\n",
       "    </tr>\n",
       "  </tbody>\n",
       "</table>\n",
       "<p>244 rows × 12 columns</p>\n",
       "</div>"
      ],
      "text/plain": [
       "       IDADE  RENDIMENTO_ANUAL SITUACAO_PROPRIEDADE  ANOS_TRABALHADOS  \\\n",
       "205     33.0          612000.0              Alugada               3.0   \n",
       "297     30.0          270000.0           Hipotecada               7.0   \n",
       "309     31.0          258000.0           Hipotecada               3.0   \n",
       "347     43.0          350000.0           Hipotecada               3.0   \n",
       "368     35.0          280000.0           Hipotecada              19.0   \n",
       "...      ...               ...                  ...               ...   \n",
       "33036   23.0          500000.0           Hipotecada               7.0   \n",
       "33199   26.0          280000.0              Alugada               4.0   \n",
       "33524   28.0          266000.0           Hipotecada              12.0   \n",
       "33815   23.0          300000.0           Hipotecada               5.0   \n",
       "33858   32.0          348000.0           Hipotecada              16.0   \n",
       "\n",
       "          MOTIVO_EMPRESTIMO PONTUACAO  VALOR_EMPRESTIMO  JUROS  \\\n",
       "205                  Médico         C            5950.0  12.73   \n",
       "297          Melhora do lar         E           35000.0  19.69   \n",
       "309                 Pessoal         A           28000.0   5.99   \n",
       "347                 Pessoal         B           18000.0  11.49   \n",
       "368          Melhora do lar         C           21600.0  12.99   \n",
       "...                     ...       ...               ...    ...   \n",
       "33036  Pagamento de débitos         B           30000.0  10.65   \n",
       "33199               Pessoal         C           10000.0  15.96   \n",
       "33524               Pessoal         A            9000.0   5.42   \n",
       "33815             Educativo         D           10000.0  15.65   \n",
       "33858                Médico         B           25000.0  11.83   \n",
       "\n",
       "       POSSIB_INADIMPLENCIA  EMPRESTIMO_PERC_RENDA_ANUAL  INADIMPLENTE  \\\n",
       "205                     0.0                         0.01           1.0   \n",
       "297                     0.0                         0.13           0.0   \n",
       "309                     0.0                         0.11           0.0   \n",
       "347                     0.0                         0.05           0.0   \n",
       "368                     0.0                         0.08           0.0   \n",
       "...                     ...                          ...           ...   \n",
       "33036                   0.0                         0.06           0.0   \n",
       "33199                   0.0                         0.04           1.0   \n",
       "33524                   0.0                         0.03           0.0   \n",
       "33815                   0.0                         0.03           1.0   \n",
       "33858                   0.0                         0.07           0.0   \n",
       "\n",
       "       ANOS_PRIMEIRO_CREDITO  \n",
       "205                       10  \n",
       "297                        8  \n",
       "309                        5  \n",
       "347                       14  \n",
       "368                        8  \n",
       "...                      ...  \n",
       "33036                      3  \n",
       "33199                      3  \n",
       "33524                     10  \n",
       "33815                      2  \n",
       "33858                      8  \n",
       "\n",
       "[244 rows x 12 columns]"
      ]
     },
     "execution_count": 90,
     "metadata": {},
     "output_type": "execute_result"
    }
   ],
   "source": [
    "dados[dados['RENDIMENTO_ANUAL'] > 250000]"
   ]
  },
  {
   "cell_type": "markdown",
   "metadata": {},
   "source": [
    "Há pessoas com rendimento anual superior a 250 mil. Esses dados foram eliminados."
   ]
  },
  {
   "cell_type": "markdown",
   "metadata": {},
   "source": [
    "#### ANOS_TRABALHADOS"
   ]
  },
  {
   "cell_type": "code",
   "execution_count": 72,
   "metadata": {},
   "outputs": [
    {
     "data": {
      "text/plain": [
       "array([  0.,   1.,   2.,   3.,   4.,   5.,   6.,   7.,   8.,   9.,  10.,\n",
       "        11.,  12.,  13.,  14.,  15.,  16.,  17.,  18.,  19.,  20.,  21.,\n",
       "        22.,  23.,  24.,  25.,  26.,  27.,  28.,  29.,  30.,  31.,  34.,\n",
       "        38.,  41., 123.])"
      ]
     },
     "execution_count": 72,
     "metadata": {},
     "output_type": "execute_result"
    }
   ],
   "source": [
    "dados['ANOS_TRABALHADOS'].sort_values().unique()"
   ]
  },
  {
   "cell_type": "markdown",
   "metadata": {},
   "source": [
    "Há dois cidadãos que trabalharam por \"123 anos\", definitivamente são um outliers. "
   ]
  },
  {
   "cell_type": "code",
   "execution_count": 73,
   "metadata": {},
   "outputs": [
    {
     "data": {
      "text/html": [
       "<div>\n",
       "<style scoped>\n",
       "    .dataframe tbody tr th:only-of-type {\n",
       "        vertical-align: middle;\n",
       "    }\n",
       "\n",
       "    .dataframe tbody tr th {\n",
       "        vertical-align: top;\n",
       "    }\n",
       "\n",
       "    .dataframe thead th {\n",
       "        text-align: right;\n",
       "    }\n",
       "</style>\n",
       "<table border=\"1\" class=\"dataframe\">\n",
       "  <thead>\n",
       "    <tr style=\"text-align: right;\">\n",
       "      <th></th>\n",
       "      <th>IDADE</th>\n",
       "      <th>RENDIMENTO_ANUAL</th>\n",
       "      <th>SITUACAO_PROPRIEDADE</th>\n",
       "      <th>ANOS_TRABALHADOS</th>\n",
       "      <th>MOTIVO_EMPRESTIMO</th>\n",
       "      <th>PONTUACAO</th>\n",
       "      <th>VALOR_EMPRESTIMO</th>\n",
       "      <th>JUROS</th>\n",
       "      <th>POSSIB_INADIMPLENCIA</th>\n",
       "      <th>EMPRESTIMO_PERC_RENDA_ANUAL</th>\n",
       "      <th>INADIMPLENTE</th>\n",
       "      <th>ANOS_PRIMEIRO_CREDITO</th>\n",
       "    </tr>\n",
       "  </thead>\n",
       "  <tbody>\n",
       "    <tr>\n",
       "      <th>25055</th>\n",
       "      <td>22.0</td>\n",
       "      <td>59000.0</td>\n",
       "      <td>Alugada</td>\n",
       "      <td>123.0</td>\n",
       "      <td>Pessoal</td>\n",
       "      <td>D</td>\n",
       "      <td>35000.0</td>\n",
       "      <td>16.02</td>\n",
       "      <td>1.0</td>\n",
       "      <td>0.59</td>\n",
       "      <td>1.0</td>\n",
       "      <td>3</td>\n",
       "    </tr>\n",
       "    <tr>\n",
       "      <th>31592</th>\n",
       "      <td>21.0</td>\n",
       "      <td>192000.0</td>\n",
       "      <td>Hipotecada</td>\n",
       "      <td>123.0</td>\n",
       "      <td>Empreendimento</td>\n",
       "      <td>A</td>\n",
       "      <td>20000.0</td>\n",
       "      <td>6.54</td>\n",
       "      <td>0.0</td>\n",
       "      <td>0.10</td>\n",
       "      <td>0.0</td>\n",
       "      <td>4</td>\n",
       "    </tr>\n",
       "  </tbody>\n",
       "</table>\n",
       "</div>"
      ],
      "text/plain": [
       "       IDADE  RENDIMENTO_ANUAL SITUACAO_PROPRIEDADE  ANOS_TRABALHADOS  \\\n",
       "25055   22.0           59000.0              Alugada             123.0   \n",
       "31592   21.0          192000.0           Hipotecada             123.0   \n",
       "\n",
       "      MOTIVO_EMPRESTIMO PONTUACAO  VALOR_EMPRESTIMO  JUROS  \\\n",
       "25055           Pessoal         D           35000.0  16.02   \n",
       "31592    Empreendimento         A           20000.0   6.54   \n",
       "\n",
       "       POSSIB_INADIMPLENCIA  EMPRESTIMO_PERC_RENDA_ANUAL  INADIMPLENTE  \\\n",
       "25055                   1.0                         0.59           1.0   \n",
       "31592                   0.0                         0.10           0.0   \n",
       "\n",
       "       ANOS_PRIMEIRO_CREDITO  \n",
       "25055                      3  \n",
       "31592                      4  "
      ]
     },
     "execution_count": 73,
     "metadata": {},
     "output_type": "execute_result"
    }
   ],
   "source": [
    "dados[dados['ANOS_TRABALHADOS'] > 100]"
   ]
  },
  {
   "cell_type": "code",
   "execution_count": 74,
   "metadata": {},
   "outputs": [
    {
     "data": {
      "text/html": [
       "<div>\n",
       "<style scoped>\n",
       "    .dataframe tbody tr th:only-of-type {\n",
       "        vertical-align: middle;\n",
       "    }\n",
       "\n",
       "    .dataframe tbody tr th {\n",
       "        vertical-align: top;\n",
       "    }\n",
       "\n",
       "    .dataframe thead th {\n",
       "        text-align: right;\n",
       "    }\n",
       "</style>\n",
       "<table border=\"1\" class=\"dataframe\">\n",
       "  <thead>\n",
       "    <tr style=\"text-align: right;\">\n",
       "      <th></th>\n",
       "      <th>IDADE</th>\n",
       "      <th>RENDIMENTO_ANUAL</th>\n",
       "      <th>SITUACAO_PROPRIEDADE</th>\n",
       "      <th>ANOS_TRABALHADOS</th>\n",
       "      <th>MOTIVO_EMPRESTIMO</th>\n",
       "      <th>PONTUACAO</th>\n",
       "      <th>VALOR_EMPRESTIMO</th>\n",
       "      <th>JUROS</th>\n",
       "      <th>POSSIB_INADIMPLENCIA</th>\n",
       "      <th>EMPRESTIMO_PERC_RENDA_ANUAL</th>\n",
       "      <th>INADIMPLENTE</th>\n",
       "      <th>ANOS_PRIMEIRO_CREDITO</th>\n",
       "    </tr>\n",
       "  </thead>\n",
       "  <tbody>\n",
       "  </tbody>\n",
       "</table>\n",
       "</div>"
      ],
      "text/plain": [
       "Empty DataFrame\n",
       "Columns: [IDADE, RENDIMENTO_ANUAL, SITUACAO_PROPRIEDADE, ANOS_TRABALHADOS, MOTIVO_EMPRESTIMO, PONTUACAO, VALOR_EMPRESTIMO, JUROS, POSSIB_INADIMPLENCIA, EMPRESTIMO_PERC_RENDA_ANUAL, INADIMPLENTE, ANOS_PRIMEIRO_CREDITO]\n",
       "Index: []"
      ]
     },
     "execution_count": 74,
     "metadata": {},
     "output_type": "execute_result"
    }
   ],
   "source": [
    "dados = dados.drop(dados[dados['ANOS_TRABALHADOS'] > 120].index)\n",
    "dados[dados['ANOS_TRABALHADOS'] > 120]"
   ]
  },
  {
   "cell_type": "markdown",
   "metadata": {},
   "source": [
    "#### VALOR_EMPRESTIMO"
   ]
  },
  {
   "cell_type": "code",
   "execution_count": 77,
   "metadata": {},
   "outputs": [
    {
     "data": {
      "image/png": "[encoded data removed]",
      "text/plain": [
       "<Figure size 1440x432 with 1 Axes>"
      ]
     },
     "metadata": {
      "needs_background": "light"
     },
     "output_type": "display_data"
    }
   ],
   "source": [
    "ax = sns.boxplot(x=dados['VALOR_EMPRESTIMO'])\n",
    "ax.figure.set_size_inches(20, 6)"
   ]
  },
  {
   "cell_type": "markdown",
   "metadata": {},
   "source": [
    "Não vejo nenhum problema em pegar empréstimos com valores elevados."
   ]
  },
  {
   "cell_type": "markdown",
   "metadata": {},
   "source": [
    "#### JUROS"
   ]
  },
  {
   "cell_type": "code",
   "execution_count": 78,
   "metadata": {},
   "outputs": [
    {
     "data": {
      "image/png": "[encoded data removed]",
      "text/plain": [
       "<Figure size 1440x432 with 1 Axes>"
      ]
     },
     "metadata": {
      "needs_background": "light"
     },
     "output_type": "display_data"
    }
   ],
   "source": [
    "ax = sns.boxplot(x=dados['JUROS'])\n",
    "ax.figure.set_size_inches(20, 6)"
   ]
  },
  {
   "cell_type": "markdown",
   "metadata": {},
   "source": [
    "Nada anormal com os juros."
   ]
  },
  {
   "cell_type": "markdown",
   "metadata": {},
   "source": [
    "#### EMPRESTIMO_PERC_RENDA_ANUAL"
   ]
  },
  {
   "cell_type": "code",
   "execution_count": 79,
   "metadata": {},
   "outputs": [
    {
     "data": {
      "image/png": "[encoded data removed]",
      "text/plain": [
       "<Figure size 1440x432 with 1 Axes>"
      ]
     },
     "metadata": {
      "needs_background": "light"
     },
     "output_type": "display_data"
    }
   ],
   "source": [
    "ax = sns.boxplot(x=dados['EMPRESTIMO_PERC_RENDA_ANUAL'])\n",
    "ax.figure.set_size_inches(20, 6)"
   ]
  },
  {
   "cell_type": "markdown",
   "metadata": {},
   "source": [
    "Nada anormal aqui."
   ]
  },
  {
   "cell_type": "markdown",
   "metadata": {},
   "source": [
    "#### ANOS_PRIMEIRO_CREDITO"
   ]
  },
  {
   "cell_type": "code",
   "execution_count": 84,
   "metadata": {},
   "outputs": [
    {
     "data": {
      "image/png": "[encoded data removed]",
      "text/plain": [
       "<Figure size 1440x432 with 1 Axes>"
      ]
     },
     "metadata": {
      "needs_background": "light"
     },
     "output_type": "display_data"
    }
   ],
   "source": [
    "ax = sns.boxplot(x=dados['ANOS_PRIMEIRO_CREDITO'])\n",
    "ax.figure.set_size_inches(20, 6)"
   ]
  },
  {
   "cell_type": "markdown",
   "metadata": {},
   "source": [
    "Nada anormal aqui."
   ]
  },
  {
   "cell_type": "markdown",
   "metadata": {},
   "source": [
    "#### Resultado final"
   ]
  },
  {
   "cell_type": "code",
   "execution_count": 85,
   "metadata": {},
   "outputs": [
    {
     "data": {
      "text/plain": [
       "(34478, 12)"
      ]
     },
     "execution_count": 85,
     "metadata": {},
     "output_type": "execute_result"
    }
   ],
   "source": [
    "dados.shape"
   ]
  },
  {
   "cell_type": "code",
   "execution_count": 83,
   "metadata": {},
   "outputs": [
    {
     "data": {
      "text/html": [
       "<div>\n",
       "<style scoped>\n",
       "    .dataframe tbody tr th:only-of-type {\n",
       "        vertical-align: middle;\n",
       "    }\n",
       "\n",
       "    .dataframe tbody tr th {\n",
       "        vertical-align: top;\n",
       "    }\n",
       "\n",
       "    .dataframe thead th {\n",
       "        text-align: right;\n",
       "    }\n",
       "</style>\n",
       "<table border=\"1\" class=\"dataframe\">\n",
       "  <thead>\n",
       "    <tr style=\"text-align: right;\">\n",
       "      <th></th>\n",
       "      <th>IDADE</th>\n",
       "      <th>RENDIMENTO_ANUAL</th>\n",
       "      <th>SITUACAO_PROPRIEDADE</th>\n",
       "      <th>ANOS_TRABALHADOS</th>\n",
       "      <th>MOTIVO_EMPRESTIMO</th>\n",
       "      <th>PONTUACAO</th>\n",
       "      <th>VALOR_EMPRESTIMO</th>\n",
       "      <th>JUROS</th>\n",
       "      <th>POSSIB_INADIMPLENCIA</th>\n",
       "      <th>EMPRESTIMO_PERC_RENDA_ANUAL</th>\n",
       "      <th>INADIMPLENTE</th>\n",
       "      <th>ANOS_PRIMEIRO_CREDITO</th>\n",
       "    </tr>\n",
       "  </thead>\n",
       "  <tbody>\n",
       "    <tr>\n",
       "      <th>871</th>\n",
       "      <td>30.0</td>\n",
       "      <td>32004.0</td>\n",
       "      <td>Alugada</td>\n",
       "      <td>1.0</td>\n",
       "      <td>Pessoal</td>\n",
       "      <td>B</td>\n",
       "      <td>24250.0</td>\n",
       "      <td>11.12</td>\n",
       "      <td>1.0</td>\n",
       "      <td>0.76</td>\n",
       "      <td>0.0</td>\n",
       "      <td>5</td>\n",
       "    </tr>\n",
       "    <tr>\n",
       "      <th>2241</th>\n",
       "      <td>22.0</td>\n",
       "      <td>20000.0</td>\n",
       "      <td>Hipotecada</td>\n",
       "      <td>0.0</td>\n",
       "      <td>Pessoal</td>\n",
       "      <td>B</td>\n",
       "      <td>16600.0</td>\n",
       "      <td>9.76</td>\n",
       "      <td>0.0</td>\n",
       "      <td>0.83</td>\n",
       "      <td>0.0</td>\n",
       "      <td>3</td>\n",
       "    </tr>\n",
       "    <tr>\n",
       "      <th>4928</th>\n",
       "      <td>35.0</td>\n",
       "      <td>85000.0</td>\n",
       "      <td>Alugada</td>\n",
       "      <td>5.0</td>\n",
       "      <td>Pagamento de débitos</td>\n",
       "      <td>A</td>\n",
       "      <td>24250.0</td>\n",
       "      <td>11.12</td>\n",
       "      <td>1.0</td>\n",
       "      <td>0.76</td>\n",
       "      <td>0.0</td>\n",
       "      <td>5</td>\n",
       "    </tr>\n",
       "    <tr>\n",
       "      <th>7011</th>\n",
       "      <td>26.0</td>\n",
       "      <td>26000.0</td>\n",
       "      <td>Alugada</td>\n",
       "      <td>10.0</td>\n",
       "      <td>Educativo</td>\n",
       "      <td>B</td>\n",
       "      <td>20050.0</td>\n",
       "      <td>9.76</td>\n",
       "      <td>1.0</td>\n",
       "      <td>0.77</td>\n",
       "      <td>0.0</td>\n",
       "      <td>2</td>\n",
       "    </tr>\n",
       "    <tr>\n",
       "      <th>19068</th>\n",
       "      <td>32.0</td>\n",
       "      <td>12000.0</td>\n",
       "      <td>Alugada</td>\n",
       "      <td>1.0</td>\n",
       "      <td>Médico</td>\n",
       "      <td>A</td>\n",
       "      <td>9325.0</td>\n",
       "      <td>8.38</td>\n",
       "      <td>1.0</td>\n",
       "      <td>0.78</td>\n",
       "      <td>0.0</td>\n",
       "      <td>6</td>\n",
       "    </tr>\n",
       "    <tr>\n",
       "      <th>27738</th>\n",
       "      <td>21.0</td>\n",
       "      <td>19500.0</td>\n",
       "      <td>Hipotecada</td>\n",
       "      <td>0.0</td>\n",
       "      <td>Educativo</td>\n",
       "      <td>B</td>\n",
       "      <td>15000.0</td>\n",
       "      <td>9.64</td>\n",
       "      <td>1.0</td>\n",
       "      <td>0.77</td>\n",
       "      <td>0.0</td>\n",
       "      <td>2</td>\n",
       "    </tr>\n",
       "  </tbody>\n",
       "</table>\n",
       "</div>"
      ],
      "text/plain": [
       "       IDADE  RENDIMENTO_ANUAL SITUACAO_PROPRIEDADE  ANOS_TRABALHADOS  \\\n",
       "871     30.0           32004.0              Alugada               1.0   \n",
       "2241    22.0           20000.0           Hipotecada               0.0   \n",
       "4928    35.0           85000.0              Alugada               5.0   \n",
       "7011    26.0           26000.0              Alugada              10.0   \n",
       "19068   32.0           12000.0              Alugada               1.0   \n",
       "27738   21.0           19500.0           Hipotecada               0.0   \n",
       "\n",
       "          MOTIVO_EMPRESTIMO PONTUACAO  VALOR_EMPRESTIMO  JUROS  \\\n",
       "871                 Pessoal         B           24250.0  11.12   \n",
       "2241                Pessoal         B           16600.0   9.76   \n",
       "4928   Pagamento de débitos         A           24250.0  11.12   \n",
       "7011              Educativo         B           20050.0   9.76   \n",
       "19068                Médico         A            9325.0   8.38   \n",
       "27738             Educativo         B           15000.0   9.64   \n",
       "\n",
       "       POSSIB_INADIMPLENCIA  EMPRESTIMO_PERC_RENDA_ANUAL  INADIMPLENTE  \\\n",
       "871                     1.0                         0.76           0.0   \n",
       "2241                    0.0                         0.83           0.0   \n",
       "4928                    1.0                         0.76           0.0   \n",
       "7011                    1.0                         0.77           0.0   \n",
       "19068                   1.0                         0.78           0.0   \n",
       "27738                   1.0                         0.77           0.0   \n",
       "\n",
       "       ANOS_PRIMEIRO_CREDITO  \n",
       "871                        5  \n",
       "2241                       3  \n",
       "4928                       5  \n",
       "7011                       2  \n",
       "19068                      6  \n",
       "27738                      2  "
      ]
     },
     "execution_count": 83,
     "metadata": {},
     "output_type": "execute_result"
    }
   ],
   "source": []
  },
  {
   "cell_type": "markdown",
   "metadata": {},
   "source": [
    "## Notebook WIP..."
   ]
  }
 ],
 "metadata": {
  "kernelspec": {
   "display_name": "Python 3.9.2 64-bit",
   "language": "python",
   "name": "python3"
  },
  "language_info": {
   "codemirror_mode": {
    "name": "ipython",
    "version": 3
   },
   "file_extension": ".py",
   "mimetype": "text/x-python",
   "name": "python",
   "nbconvert_exporter": "python",
   "pygments_lexer": "ipython3",
   "version": "3.9.2"
  },
  "orig_nbformat": 4,
  "vscode": {
   "interpreter": {
    "hash": "a7de64065884b7780333370f8de1175b65d49259e6a478d1a6e215e36330ef66"
   }
  }
 },
 "nbformat": 4,
 "nbformat_minor": 2
}
