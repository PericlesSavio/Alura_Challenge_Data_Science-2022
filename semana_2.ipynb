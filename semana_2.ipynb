{
 "cells": [
  {
   "cell_type": "markdown",
   "metadata": {},
   "source": [
    "## Semana 2"
   ]
  },
  {
   "cell_type": "markdown",
   "metadata": {},
   "source": [
    "### Bibliotecas e dados brutos"
   ]
  },
  {
   "cell_type": "code",
   "execution_count": 2,
   "metadata": {},
   "outputs": [],
   "source": [
    "# bibliotecas usadas:\n",
    "import pandas as pd # manipulação dos dados\n",
    "import seaborn as sns # gráficos\n",
    "\n",
    "# opcional (ocutar alguns alertas)\n",
    "import warnings\n",
    "warnings.filterwarnings('ignore')"
   ]
  },
  {
   "cell_type": "code",
   "execution_count": 15,
   "metadata": {},
   "outputs": [
    {
     "data": {
      "text/html": [
       "<div>\n",
       "<style scoped>\n",
       "    .dataframe tbody tr th:only-of-type {\n",
       "        vertical-align: middle;\n",
       "    }\n",
       "\n",
       "    .dataframe tbody tr th {\n",
       "        vertical-align: top;\n",
       "    }\n",
       "\n",
       "    .dataframe thead th {\n",
       "        text-align: right;\n",
       "    }\n",
       "</style>\n",
       "<table border=\"1\" class=\"dataframe\">\n",
       "  <thead>\n",
       "    <tr style=\"text-align: right;\">\n",
       "      <th></th>\n",
       "      <th>PESSOA</th>\n",
       "      <th>IDADE</th>\n",
       "      <th>RENDIMENTO_ANUAL</th>\n",
       "      <th>SITUACAO_PROPRIEDADE</th>\n",
       "      <th>ANOS_TRABALHADOS</th>\n",
       "      <th>EMPRESTIMO</th>\n",
       "      <th>MOTIVO_EMPRESTIMO</th>\n",
       "      <th>PONTUACAO</th>\n",
       "      <th>VALOR_EMPRESTIMO</th>\n",
       "      <th>JUROS</th>\n",
       "      <th>POSSIB_INADIMPLENCIA</th>\n",
       "      <th>EMPRESTIMO_PERC_RENDA_ANUAL</th>\n",
       "      <th>SOLICITACAO</th>\n",
       "      <th>INADIMPLENTE</th>\n",
       "      <th>ANOS_PRIMEIRO_CREDITO</th>\n",
       "    </tr>\n",
       "  </thead>\n",
       "  <tbody>\n",
       "    <tr>\n",
       "      <th>3677</th>\n",
       "      <td>yFOapQ0E-1QX8</td>\n",
       "      <td>25.0</td>\n",
       "      <td>67500.0</td>\n",
       "      <td>NaN</td>\n",
       "      <td>2.0</td>\n",
       "      <td>14xtoWkD-wTag</td>\n",
       "      <td>Educativo</td>\n",
       "      <td>A</td>\n",
       "      <td>15000.0</td>\n",
       "      <td>NaN</td>\n",
       "      <td>0.0</td>\n",
       "      <td>0.25</td>\n",
       "      <td>5XB4c5GC-RJB1</td>\n",
       "      <td>0.0</td>\n",
       "      <td>12</td>\n",
       "    </tr>\n",
       "    <tr>\n",
       "      <th>5770</th>\n",
       "      <td>ruEcZQdz-ZipX</td>\n",
       "      <td>27.0</td>\n",
       "      <td>90000.0</td>\n",
       "      <td>Hipotecada</td>\n",
       "      <td>5.0</td>\n",
       "      <td>163mKPSf-bvhb</td>\n",
       "      <td>Empreendimento</td>\n",
       "      <td>C</td>\n",
       "      <td>12000.0</td>\n",
       "      <td>12.73</td>\n",
       "      <td>0.0</td>\n",
       "      <td>0.13</td>\n",
       "      <td>oxQ9zrtA-cYcL</td>\n",
       "      <td>0.0</td>\n",
       "      <td>9</td>\n",
       "    </tr>\n",
       "    <tr>\n",
       "      <th>32814</th>\n",
       "      <td>gdkpUx1w-6JT0</td>\n",
       "      <td>22.0</td>\n",
       "      <td>20400.0</td>\n",
       "      <td>Alugada</td>\n",
       "      <td>5.0</td>\n",
       "      <td>zZC1Y3Uz-yhKK</td>\n",
       "      <td>Médico</td>\n",
       "      <td>C</td>\n",
       "      <td>3250.0</td>\n",
       "      <td>14.26</td>\n",
       "      <td>1.0</td>\n",
       "      <td>0.16</td>\n",
       "      <td>5cM2A94X-84IR</td>\n",
       "      <td>1.0</td>\n",
       "      <td>2</td>\n",
       "    </tr>\n",
       "    <tr>\n",
       "      <th>23992</th>\n",
       "      <td>MmohEoGC-Hp9y</td>\n",
       "      <td>23.0</td>\n",
       "      <td>46500.0</td>\n",
       "      <td>Alugada</td>\n",
       "      <td>0.0</td>\n",
       "      <td>mzvhOn1N-6FUu</td>\n",
       "      <td>Médico</td>\n",
       "      <td>D</td>\n",
       "      <td>8400.0</td>\n",
       "      <td>16.89</td>\n",
       "      <td>1.0</td>\n",
       "      <td>0.18</td>\n",
       "      <td>bs570sdK-EcqL</td>\n",
       "      <td>1.0</td>\n",
       "      <td>3</td>\n",
       "    </tr>\n",
       "    <tr>\n",
       "      <th>34220</th>\n",
       "      <td>CczI2mvJ-Y7QK</td>\n",
       "      <td>39.0</td>\n",
       "      <td>45000.0</td>\n",
       "      <td>Hipotecada</td>\n",
       "      <td>2.0</td>\n",
       "      <td>XRUqqJKy-1vXd</td>\n",
       "      <td>Pessoal</td>\n",
       "      <td>A</td>\n",
       "      <td>3000.0</td>\n",
       "      <td>7.90</td>\n",
       "      <td>0.0</td>\n",
       "      <td>0.07</td>\n",
       "      <td>ekyDWMQO-HcD6</td>\n",
       "      <td>0.0</td>\n",
       "      <td>15</td>\n",
       "    </tr>\n",
       "  </tbody>\n",
       "</table>\n",
       "</div>"
      ],
      "text/plain": [
       "              PESSOA  IDADE  RENDIMENTO_ANUAL SITUACAO_PROPRIEDADE  \\\n",
       "3677   yFOapQ0E-1QX8   25.0           67500.0                  NaN   \n",
       "5770   ruEcZQdz-ZipX   27.0           90000.0           Hipotecada   \n",
       "32814  gdkpUx1w-6JT0   22.0           20400.0              Alugada   \n",
       "23992  MmohEoGC-Hp9y   23.0           46500.0              Alugada   \n",
       "34220  CczI2mvJ-Y7QK   39.0           45000.0           Hipotecada   \n",
       "\n",
       "       ANOS_TRABALHADOS     EMPRESTIMO MOTIVO_EMPRESTIMO PONTUACAO  \\\n",
       "3677                2.0  14xtoWkD-wTag         Educativo         A   \n",
       "5770                5.0  163mKPSf-bvhb    Empreendimento         C   \n",
       "32814               5.0  zZC1Y3Uz-yhKK            Médico         C   \n",
       "23992               0.0  mzvhOn1N-6FUu            Médico         D   \n",
       "34220               2.0  XRUqqJKy-1vXd           Pessoal         A   \n",
       "\n",
       "       VALOR_EMPRESTIMO  JUROS  POSSIB_INADIMPLENCIA  \\\n",
       "3677            15000.0    NaN                   0.0   \n",
       "5770            12000.0  12.73                   0.0   \n",
       "32814            3250.0  14.26                   1.0   \n",
       "23992            8400.0  16.89                   1.0   \n",
       "34220            3000.0   7.90                   0.0   \n",
       "\n",
       "       EMPRESTIMO_PERC_RENDA_ANUAL    SOLICITACAO  INADIMPLENTE  \\\n",
       "3677                          0.25  5XB4c5GC-RJB1           0.0   \n",
       "5770                          0.13  oxQ9zrtA-cYcL           0.0   \n",
       "32814                         0.16  5cM2A94X-84IR           1.0   \n",
       "23992                         0.18  bs570sdK-EcqL           1.0   \n",
       "34220                         0.07  ekyDWMQO-HcD6           0.0   \n",
       "\n",
       "       ANOS_PRIMEIRO_CREDITO  \n",
       "3677                      12  \n",
       "5770                       9  \n",
       "32814                      2  \n",
       "23992                      3  \n",
       "34220                     15  "
      ]
     },
     "execution_count": 15,
     "metadata": {},
     "output_type": "execute_result"
    }
   ],
   "source": [
    "dados_brutos = pd.read_csv('tabela_aluracash.csv', sep=';')\n",
    "dados_brutos.sample(5) #amostra dos dados brutos"
   ]
  },
  {
   "cell_type": "markdown",
   "metadata": {},
   "source": [
    "### Informações do dataset"
   ]
  },
  {
   "cell_type": "markdown",
   "metadata": {},
   "source": [
    "#### Nº de linhas e colunas"
   ]
  },
  {
   "cell_type": "code",
   "execution_count": 8,
   "metadata": {},
   "outputs": [
    {
     "data": {
      "text/plain": [
       "(34485, 15)"
      ]
     },
     "execution_count": 8,
     "metadata": {},
     "output_type": "execute_result"
    }
   ],
   "source": [
    "dados_brutos.shape"
   ]
  },
  {
   "cell_type": "markdown",
   "metadata": {},
   "source": [
    "#### Colunas + tipos das colunas"
   ]
  },
  {
   "cell_type": "code",
   "execution_count": 9,
   "metadata": {},
   "outputs": [
    {
     "name": "stdout",
     "output_type": "stream",
     "text": [
      "<class 'pandas.core.frame.DataFrame'>\n",
      "RangeIndex: 34485 entries, 0 to 34484\n",
      "Data columns (total 15 columns):\n",
      " #   Column                       Non-Null Count  Dtype  \n",
      "---  ------                       --------------  -----  \n",
      " 0   PESSOA                       34485 non-null  object \n",
      " 1   IDADE                        34165 non-null  float64\n",
      " 2   RENDIMENTO_ANUAL             34150 non-null  float64\n",
      " 3   SITUACAO_PROPRIEDADE         34154 non-null  object \n",
      " 4   ANOS_TRABALHADOS             33231 non-null  float64\n",
      " 5   EMPRESTIMO                   34485 non-null  object \n",
      " 6   MOTIVO_EMPRESTIMO            34174 non-null  object \n",
      " 7   PONTUACAO                    34176 non-null  object \n",
      " 8   VALOR_EMPRESTIMO             34154 non-null  float64\n",
      " 9   JUROS                        30859 non-null  float64\n",
      " 10  POSSIB_INADIMPLENCIA         34142 non-null  float64\n",
      " 11  EMPRESTIMO_PERC_RENDA_ANUAL  34170 non-null  float64\n",
      " 12  SOLICITACAO                  34485 non-null  object \n",
      " 13  INADIMPLENTE                 34119 non-null  float64\n",
      " 14  ANOS_PRIMEIRO_CREDITO        34485 non-null  int64  \n",
      "dtypes: float64(8), int64(1), object(6)\n",
      "memory usage: 3.9+ MB\n"
     ]
    }
   ],
   "source": [
    "dados_brutos.info()"
   ]
  },
  {
   "cell_type": "markdown",
   "metadata": {},
   "source": [
    "#### Dados nulos por colunas"
   ]
  },
  {
   "cell_type": "code",
   "execution_count": 11,
   "metadata": {},
   "outputs": [
    {
     "data": {
      "text/plain": [
       "PESSOA                            0\n",
       "IDADE                           320\n",
       "RENDIMENTO_ANUAL                335\n",
       "SITUACAO_PROPRIEDADE            331\n",
       "ANOS_TRABALHADOS               1254\n",
       "EMPRESTIMO                        0\n",
       "MOTIVO_EMPRESTIMO               311\n",
       "PONTUACAO                       309\n",
       "VALOR_EMPRESTIMO                331\n",
       "JUROS                          3626\n",
       "POSSIB_INADIMPLENCIA            343\n",
       "EMPRESTIMO_PERC_RENDA_ANUAL     315\n",
       "SOLICITACAO                       0\n",
       "INADIMPLENTE                    366\n",
       "ANOS_PRIMEIRO_CREDITO             0\n",
       "dtype: int64"
      ]
     },
     "execution_count": 11,
     "metadata": {},
     "output_type": "execute_result"
    }
   ],
   "source": [
    "dados_brutos.isnull().sum()"
   ]
  },
  {
   "cell_type": "markdown",
   "metadata": {},
   "source": [
    "#### Dados vazios (tipo string) por colunas"
   ]
  },
  {
   "cell_type": "code",
   "execution_count": 12,
   "metadata": {},
   "outputs": [
    {
     "data": {
      "text/plain": [
       "PESSOA                         0\n",
       "IDADE                          0\n",
       "RENDIMENTO_ANUAL               0\n",
       "SITUACAO_PROPRIEDADE           0\n",
       "ANOS_TRABALHADOS               0\n",
       "EMPRESTIMO                     0\n",
       "MOTIVO_EMPRESTIMO              0\n",
       "PONTUACAO                      0\n",
       "VALOR_EMPRESTIMO               0\n",
       "JUROS                          0\n",
       "POSSIB_INADIMPLENCIA           0\n",
       "EMPRESTIMO_PERC_RENDA_ANUAL    0\n",
       "SOLICITACAO                    0\n",
       "INADIMPLENTE                   0\n",
       "ANOS_PRIMEIRO_CREDITO          0\n",
       "dtype: int64"
      ]
     },
     "execution_count": 12,
     "metadata": {},
     "output_type": "execute_result"
    }
   ],
   "source": [
    "(dados_brutos == '').sum()"
   ]
  },
  {
   "cell_type": "markdown",
   "metadata": {},
   "source": [
    "#### Criando um subset com as colunes necessárias"
   ]
  },
  {
   "cell_type": "code",
   "execution_count": 14,
   "metadata": {},
   "outputs": [
    {
     "data": {
      "text/html": [
       "<div>\n",
       "<style scoped>\n",
       "    .dataframe tbody tr th:only-of-type {\n",
       "        vertical-align: middle;\n",
       "    }\n",
       "\n",
       "    .dataframe tbody tr th {\n",
       "        vertical-align: top;\n",
       "    }\n",
       "\n",
       "    .dataframe thead th {\n",
       "        text-align: right;\n",
       "    }\n",
       "</style>\n",
       "<table border=\"1\" class=\"dataframe\">\n",
       "  <thead>\n",
       "    <tr style=\"text-align: right;\">\n",
       "      <th></th>\n",
       "      <th>IDADE</th>\n",
       "      <th>RENDIMENTO_ANUAL</th>\n",
       "      <th>SITUACAO_PROPRIEDADE</th>\n",
       "      <th>ANOS_TRABALHADOS</th>\n",
       "      <th>MOTIVO_EMPRESTIMO</th>\n",
       "      <th>PONTUACAO</th>\n",
       "      <th>VALOR_EMPRESTIMO</th>\n",
       "      <th>JUROS</th>\n",
       "      <th>POSSIB_INADIMPLENCIA</th>\n",
       "      <th>EMPRESTIMO_PERC_RENDA_ANUAL</th>\n",
       "      <th>INADIMPLENTE</th>\n",
       "      <th>ANOS_PRIMEIRO_CREDITO</th>\n",
       "    </tr>\n",
       "  </thead>\n",
       "  <tbody>\n",
       "    <tr>\n",
       "      <th>18530</th>\n",
       "      <td>26.0</td>\n",
       "      <td>64000.0</td>\n",
       "      <td>Alugada</td>\n",
       "      <td>3.0</td>\n",
       "      <td>Médico</td>\n",
       "      <td>B</td>\n",
       "      <td>2500.0</td>\n",
       "      <td>10.99</td>\n",
       "      <td>0.0</td>\n",
       "      <td>0.04</td>\n",
       "      <td>0.0</td>\n",
       "      <td>3</td>\n",
       "    </tr>\n",
       "    <tr>\n",
       "      <th>18465</th>\n",
       "      <td>25.0</td>\n",
       "      <td>155000.0</td>\n",
       "      <td>Hipotecada</td>\n",
       "      <td>8.0</td>\n",
       "      <td>Pessoal</td>\n",
       "      <td>C</td>\n",
       "      <td>10000.0</td>\n",
       "      <td>13.06</td>\n",
       "      <td>0.0</td>\n",
       "      <td>0.06</td>\n",
       "      <td>1.0</td>\n",
       "      <td>3</td>\n",
       "    </tr>\n",
       "    <tr>\n",
       "      <th>25089</th>\n",
       "      <td>22.0</td>\n",
       "      <td>29000.0</td>\n",
       "      <td>Hipotecada</td>\n",
       "      <td>6.0</td>\n",
       "      <td>Pessoal</td>\n",
       "      <td>A</td>\n",
       "      <td>12000.0</td>\n",
       "      <td>5.42</td>\n",
       "      <td>1.0</td>\n",
       "      <td>0.41</td>\n",
       "      <td>0.0</td>\n",
       "      <td>4</td>\n",
       "    </tr>\n",
       "    <tr>\n",
       "      <th>17179</th>\n",
       "      <td>22.0</td>\n",
       "      <td>35100.0</td>\n",
       "      <td>Alugada</td>\n",
       "      <td>0.0</td>\n",
       "      <td>Educativo</td>\n",
       "      <td>C</td>\n",
       "      <td>1000.0</td>\n",
       "      <td>13.98</td>\n",
       "      <td>0.0</td>\n",
       "      <td>0.03</td>\n",
       "      <td>1.0</td>\n",
       "      <td>3</td>\n",
       "    </tr>\n",
       "    <tr>\n",
       "      <th>805</th>\n",
       "      <td>27.0</td>\n",
       "      <td>101877.0</td>\n",
       "      <td>Alugada</td>\n",
       "      <td>9.0</td>\n",
       "      <td>Empreendimento</td>\n",
       "      <td>B</td>\n",
       "      <td>12500.0</td>\n",
       "      <td>11.99</td>\n",
       "      <td>0.0</td>\n",
       "      <td>0.12</td>\n",
       "      <td>0.0</td>\n",
       "      <td>7</td>\n",
       "    </tr>\n",
       "  </tbody>\n",
       "</table>\n",
       "</div>"
      ],
      "text/plain": [
       "       IDADE  RENDIMENTO_ANUAL SITUACAO_PROPRIEDADE  ANOS_TRABALHADOS  \\\n",
       "18530   26.0           64000.0              Alugada               3.0   \n",
       "18465   25.0          155000.0           Hipotecada               8.0   \n",
       "25089   22.0           29000.0           Hipotecada               6.0   \n",
       "17179   22.0           35100.0              Alugada               0.0   \n",
       "805     27.0          101877.0              Alugada               9.0   \n",
       "\n",
       "      MOTIVO_EMPRESTIMO PONTUACAO  VALOR_EMPRESTIMO  JUROS  \\\n",
       "18530            Médico         B            2500.0  10.99   \n",
       "18465           Pessoal         C           10000.0  13.06   \n",
       "25089           Pessoal         A           12000.0   5.42   \n",
       "17179         Educativo         C            1000.0  13.98   \n",
       "805      Empreendimento         B           12500.0  11.99   \n",
       "\n",
       "       POSSIB_INADIMPLENCIA  EMPRESTIMO_PERC_RENDA_ANUAL  INADIMPLENTE  \\\n",
       "18530                   0.0                         0.04           0.0   \n",
       "18465                   0.0                         0.06           1.0   \n",
       "25089                   1.0                         0.41           0.0   \n",
       "17179                   0.0                         0.03           1.0   \n",
       "805                     0.0                         0.12           0.0   \n",
       "\n",
       "       ANOS_PRIMEIRO_CREDITO  \n",
       "18530                      3  \n",
       "18465                      3  \n",
       "25089                      4  \n",
       "17179                      3  \n",
       "805                        7  "
      ]
     },
     "execution_count": 14,
     "metadata": {},
     "output_type": "execute_result"
    }
   ],
   "source": [
    "dados = dados_brutos[[ 'IDADE', 'RENDIMENTO_ANUAL', 'SITUACAO_PROPRIEDADE',\n",
    "       'ANOS_TRABALHADOS', 'MOTIVO_EMPRESTIMO', 'PONTUACAO',\n",
    "       'VALOR_EMPRESTIMO', 'JUROS', 'POSSIB_INADIMPLENCIA',\n",
    "       'EMPRESTIMO_PERC_RENDA_ANUAL', 'INADIMPLENTE',\n",
    "       'ANOS_PRIMEIRO_CREDITO']]\n",
    "dados.sample(5)"
   ]
  },
  {
   "cell_type": "markdown",
   "metadata": {},
   "source": [
    "### Remoção de dados nulos"
   ]
  },
  {
   "cell_type": "markdown",
   "metadata": {},
   "source": [
    "#### Motivo do empréstimo"
   ]
  },
  {
   "cell_type": "code",
   "execution_count": 25,
   "metadata": {},
   "outputs": [
    {
     "data": {
      "text/plain": [
       "Educativo               19.628770\n",
       "Médico                  18.503480\n",
       "Empreendimento          17.328886\n",
       "Pessoal                 16.766241\n",
       "Pagamento de débitos    15.881671\n",
       "Melhora do lar          10.988979\n",
       "Desconhecido             0.901972\n",
       "Name: MOTIVO_EMPRESTIMO, dtype: float64"
      ]
     },
     "execution_count": 25,
     "metadata": {},
     "output_type": "execute_result"
    }
   ],
   "source": [
    "dados['MOTIVO_EMPRESTIMO'] = dados['MOTIVO_EMPRESTIMO'].fillna('Desconhecido')\n",
    "dados['MOTIVO_EMPRESTIMO'].value_counts(normalize = True) *100"
   ]
  },
  {
   "cell_type": "markdown",
   "metadata": {},
   "source": [
    "### Tratamento de outliers"
   ]
  },
  {
   "cell_type": "markdown",
   "metadata": {},
   "source": [
    "#### Idade"
   ]
  },
  {
   "cell_type": "code",
   "execution_count": 16,
   "metadata": {},
   "outputs": [
    {
     "data": {
      "image/png": "[encoded data removed]",
      "text/plain": [
       "<Figure size 1440x432 with 1 Axes>"
      ]
     },
     "metadata": {
      "needs_background": "light"
     },
     "output_type": "display_data"
    }
   ],
   "source": [
    "ax = sns.boxplot(x=dados['IDADE'])\n",
    "ax.figure.set_size_inches(20, 6)"
   ]
  },
  {
   "cell_type": "markdown",
   "metadata": {},
   "source": [
    "É altamente improvável pessoas com idade superior a 120 anos."
   ]
  },
  {
   "cell_type": "code",
   "execution_count": 18,
   "metadata": {},
   "outputs": [
    {
     "data": {
      "text/html": [
       "<div>\n",
       "<style scoped>\n",
       "    .dataframe tbody tr th:only-of-type {\n",
       "        vertical-align: middle;\n",
       "    }\n",
       "\n",
       "    .dataframe tbody tr th {\n",
       "        vertical-align: top;\n",
       "    }\n",
       "\n",
       "    .dataframe thead th {\n",
       "        text-align: right;\n",
       "    }\n",
       "</style>\n",
       "<table border=\"1\" class=\"dataframe\">\n",
       "  <thead>\n",
       "    <tr style=\"text-align: right;\">\n",
       "      <th></th>\n",
       "      <th>IDADE</th>\n",
       "      <th>RENDIMENTO_ANUAL</th>\n",
       "      <th>SITUACAO_PROPRIEDADE</th>\n",
       "      <th>ANOS_TRABALHADOS</th>\n",
       "      <th>MOTIVO_EMPRESTIMO</th>\n",
       "      <th>PONTUACAO</th>\n",
       "      <th>VALOR_EMPRESTIMO</th>\n",
       "      <th>JUROS</th>\n",
       "      <th>POSSIB_INADIMPLENCIA</th>\n",
       "      <th>EMPRESTIMO_PERC_RENDA_ANUAL</th>\n",
       "      <th>INADIMPLENTE</th>\n",
       "      <th>ANOS_PRIMEIRO_CREDITO</th>\n",
       "    </tr>\n",
       "  </thead>\n",
       "  <tbody>\n",
       "    <tr>\n",
       "      <th>12360</th>\n",
       "      <td>144.0</td>\n",
       "      <td>6000000.0</td>\n",
       "      <td>Hipotecada</td>\n",
       "      <td>12.0</td>\n",
       "      <td>Pessoal</td>\n",
       "      <td>C</td>\n",
       "      <td>5000.0</td>\n",
       "      <td>12.73</td>\n",
       "      <td>0.0</td>\n",
       "      <td>0.00</td>\n",
       "      <td>0.0</td>\n",
       "      <td>25</td>\n",
       "    </tr>\n",
       "    <tr>\n",
       "      <th>18648</th>\n",
       "      <td>123.0</td>\n",
       "      <td>80004.0</td>\n",
       "      <td>Alugada</td>\n",
       "      <td>2.0</td>\n",
       "      <td>Educativo</td>\n",
       "      <td>B</td>\n",
       "      <td>20400.0</td>\n",
       "      <td>10.25</td>\n",
       "      <td>0.0</td>\n",
       "      <td>0.25</td>\n",
       "      <td>0.0</td>\n",
       "      <td>3</td>\n",
       "    </tr>\n",
       "    <tr>\n",
       "      <th>19597</th>\n",
       "      <td>144.0</td>\n",
       "      <td>200000.0</td>\n",
       "      <td>Hipotecada</td>\n",
       "      <td>4.0</td>\n",
       "      <td>Educativo</td>\n",
       "      <td>B</td>\n",
       "      <td>6000.0</td>\n",
       "      <td>11.86</td>\n",
       "      <td>0.0</td>\n",
       "      <td>0.03</td>\n",
       "      <td>0.0</td>\n",
       "      <td>2</td>\n",
       "    </tr>\n",
       "    <tr>\n",
       "      <th>23469</th>\n",
       "      <td>123.0</td>\n",
       "      <td>78000.0</td>\n",
       "      <td>Alugada</td>\n",
       "      <td>7.0</td>\n",
       "      <td>Empreendimento</td>\n",
       "      <td>B</td>\n",
       "      <td>20000.0</td>\n",
       "      <td>NaN</td>\n",
       "      <td>0.0</td>\n",
       "      <td>0.26</td>\n",
       "      <td>0.0</td>\n",
       "      <td>4</td>\n",
       "    </tr>\n",
       "    <tr>\n",
       "      <th>32584</th>\n",
       "      <td>144.0</td>\n",
       "      <td>250000.0</td>\n",
       "      <td>Alugada</td>\n",
       "      <td>4.0</td>\n",
       "      <td>Empreendimento</td>\n",
       "      <td>C</td>\n",
       "      <td>4800.0</td>\n",
       "      <td>13.57</td>\n",
       "      <td>0.0</td>\n",
       "      <td>0.02</td>\n",
       "      <td>0.0</td>\n",
       "      <td>3</td>\n",
       "    </tr>\n",
       "  </tbody>\n",
       "</table>\n",
       "</div>"
      ],
      "text/plain": [
       "       IDADE  RENDIMENTO_ANUAL SITUACAO_PROPRIEDADE  ANOS_TRABALHADOS  \\\n",
       "12360  144.0         6000000.0           Hipotecada              12.0   \n",
       "18648  123.0           80004.0              Alugada               2.0   \n",
       "19597  144.0          200000.0           Hipotecada               4.0   \n",
       "23469  123.0           78000.0              Alugada               7.0   \n",
       "32584  144.0          250000.0              Alugada               4.0   \n",
       "\n",
       "      MOTIVO_EMPRESTIMO PONTUACAO  VALOR_EMPRESTIMO  JUROS  \\\n",
       "12360           Pessoal         C            5000.0  12.73   \n",
       "18648         Educativo         B           20400.0  10.25   \n",
       "19597         Educativo         B            6000.0  11.86   \n",
       "23469    Empreendimento         B           20000.0    NaN   \n",
       "32584    Empreendimento         C            4800.0  13.57   \n",
       "\n",
       "       POSSIB_INADIMPLENCIA  EMPRESTIMO_PERC_RENDA_ANUAL  INADIMPLENTE  \\\n",
       "12360                   0.0                         0.00           0.0   \n",
       "18648                   0.0                         0.25           0.0   \n",
       "19597                   0.0                         0.03           0.0   \n",
       "23469                   0.0                         0.26           0.0   \n",
       "32584                   0.0                         0.02           0.0   \n",
       "\n",
       "       ANOS_PRIMEIRO_CREDITO  \n",
       "12360                     25  \n",
       "18648                      3  \n",
       "19597                      2  \n",
       "23469                      4  \n",
       "32584                      3  "
      ]
     },
     "execution_count": 18,
     "metadata": {},
     "output_type": "execute_result"
    }
   ],
   "source": [
    "dados[dados['IDADE'] > 120]"
   ]
  },
  {
   "cell_type": "markdown",
   "metadata": {},
   "source": [
    "Essas 5 linhas representam apenas uma fração muito diminuta do dataset (menos de 0,1%).\n",
    "\n",
    "Elas serão removidas."
   ]
  },
  {
   "cell_type": "code",
   "execution_count": 23,
   "metadata": {},
   "outputs": [],
   "source": [
    "dados = dados.drop(dados[dados['IDADE'] > 120].index)"
   ]
  },
  {
   "cell_type": "markdown",
   "metadata": {},
   "source": [
    "## Notebook WIP..."
   ]
  }
 ],
 "metadata": {
  "kernelspec": {
   "display_name": "Python 3.9.2 64-bit",
   "language": "python",
   "name": "python3"
  },
  "language_info": {
   "codemirror_mode": {
    "name": "ipython",
    "version": 3
   },
   "file_extension": ".py",
   "mimetype": "text/x-python",
   "name": "python",
   "nbconvert_exporter": "python",
   "pygments_lexer": "ipython3",
   "version": "3.9.2"
  },
  "orig_nbformat": 4,
  "vscode": {
   "interpreter": {
    "hash": "a7de64065884b7780333370f8de1175b65d49259e6a478d1a6e215e36330ef66"
   }
  }
 },
 "nbformat": 4,
 "nbformat_minor": 2
}
