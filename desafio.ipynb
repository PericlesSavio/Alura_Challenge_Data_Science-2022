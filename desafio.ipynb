{
 "cells": [
  {
   "cell_type": "markdown",
   "metadata": {},
   "source": [
    "## Desafio Alura\n",
    "\n",
    "Você foi contratado(a) como pessoa cientista de dados para trabalhar em um banco digital internacional chamado Alura Cash. Na primeira reunião do seu novo trabalho, a diretoria financeira informa que, recorrentemente, estão surgindo pessoas inadimplentes após a liberação de créditos. Portanto, é solicitada uma solução para que seja possível diminuir as perdas financeiras por conta de pessoas mutuarias que não quitam suas dívidas.\n",
    "\n",
    "Como cientista de dados, você sugere um estudo das informações financeiras e de solicitação de empréstimo para encontrar padrões que possam indicar uma possível inadimplência.\n",
    "\n",
    "Desse modo, você solicita um conjunto de dados que contenha as informações de clientes, da solicitação de empréstimo, do histórico de crédito, bem como se a pessoa mutuaria é inadimplente ou não. Com esses dados, você sabe que consegue modelar um classificador capaz de encontrar potenciais clientes inadimplentes e solucionar o problema do Alura Cash.\n",
    "\n",
    "Por fim, você vai utilizar o GitHub e desenvolver um portfólio focado em Data Science, Data Analytics e Machine Learning.\n",
    "\n",
    "Link do repositório: [https://github.com/Mirlaa/Challenge-Data-Science-1ed](https://github.com/Mirlaa/Challenge-Data-Science-1ed)\n"
   ]
  },
  {
   "cell_type": "markdown",
   "metadata": {},
   "source": [
    "### Atividades realizadas (Semana 1)\n",
    "- Instalar MySQL Workbench e importar **database dump**.\n",
    "- Analisar quais os tipos de dados.\n",
    "- Verificar quais são as inconsistências nos dados.\n",
    "- Entender quais informações o conjunto de dados possui.\n",
    "- Verificar quais são as inconsistências nos dados.\n",
    "- Corrigir as inconsistências nos dados.\n",
    "- Unir as tabelas de dados de acordo com os IDs.\n",
    "- Traduzir as colunas.\n",
    "- Exportar a tabela de dados unidos como csv."
   ]
  },
  {
   "cell_type": "markdown",
   "metadata": {},
   "source": [
    "#### Instalar MySQL Workbench e importar **database dump**\n",
    "![](import_dump.png \"Title\")"
   ]
  },
  {
   "cell_type": "markdown",
   "metadata": {},
   "source": [
    "#### Analisar quais os tipos de dados"
   ]
  },
  {
   "cell_type": "code",
   "execution_count": 2,
   "metadata": {},
   "outputs": [],
   "source": [
    "# bibliotecas usadas:\n",
    "import mysql.connector as sql # fazer a conexão com o MySQL\n",
    "import pandas as pd # manipulação dos dados"
   ]
  },
  {
   "cell_type": "code",
   "execution_count": 1,
   "metadata": {},
   "outputs": [],
   "source": [
    "# opcional\n",
    "# Ocutar alguns alertas:\n",
    "# (UserWarning: pandas only support SQLAlchemy connectable(engine/connection) ordatabase string URI or\n",
    "# sqlite3 DBAPI2 connectionother DBAPI2 objects are not tested, please consider using SQLAlchemy)\n",
    "import warnings\n",
    "warnings.filterwarnings('ignore')"
   ]
  },
  {
   "cell_type": "code",
   "execution_count": 4,
   "metadata": {},
   "outputs": [],
   "source": [
    "# conexão\n",
    "db_connection = sql.connect(host='127.0.0.1', database='aluracash', user='root', password='senha123')"
   ]
  },
  {
   "cell_type": "code",
   "execution_count": 5,
   "metadata": {},
   "outputs": [
    {
     "data": {
      "text/html": [
       "<div>\n",
       "<style scoped>\n",
       "    .dataframe tbody tr th:only-of-type {\n",
       "        vertical-align: middle;\n",
       "    }\n",
       "\n",
       "    .dataframe tbody tr th {\n",
       "        vertical-align: top;\n",
       "    }\n",
       "\n",
       "    .dataframe thead th {\n",
       "        text-align: right;\n",
       "    }\n",
       "</style>\n",
       "<table border=\"1\" class=\"dataframe\">\n",
       "  <thead>\n",
       "    <tr style=\"text-align: right;\">\n",
       "      <th></th>\n",
       "      <th>person_id</th>\n",
       "      <th>loan_id</th>\n",
       "      <th>cb_id</th>\n",
       "    </tr>\n",
       "  </thead>\n",
       "  <tbody>\n",
       "    <tr>\n",
       "      <th>0</th>\n",
       "      <td>JAz2tRvQ-14cy</td>\n",
       "      <td>pjEu6snv-4t33</td>\n",
       "      <td>FIgNSkrG-wen7</td>\n",
       "    </tr>\n",
       "    <tr>\n",
       "      <th>1</th>\n",
       "      <td>MZSefq9m-loYS</td>\n",
       "      <td>Mfn0Csx4-LGM3</td>\n",
       "      <td>QPDJUQfQ-DJqK</td>\n",
       "    </tr>\n",
       "    <tr>\n",
       "      <th>2</th>\n",
       "      <td>cRItaaPB-pRvT</td>\n",
       "      <td>Ks4nz74P-z6Iq</td>\n",
       "      <td>hzAXqSDh-ay7Q</td>\n",
       "    </tr>\n",
       "    <tr>\n",
       "      <th>3</th>\n",
       "      <td>5jTDCfXS-zaAq</td>\n",
       "      <td>ZFlwW08i-I3Al</td>\n",
       "      <td>LiAivrS4-J5DE</td>\n",
       "    </tr>\n",
       "    <tr>\n",
       "      <th>4</th>\n",
       "      <td>Hbz9PtI3-tOFs</td>\n",
       "      <td>bFMFchcv-UwQW</td>\n",
       "      <td>PkBixMJ3-3bad</td>\n",
       "    </tr>\n",
       "    <tr>\n",
       "      <th>...</th>\n",
       "      <td>...</td>\n",
       "      <td>...</td>\n",
       "      <td>...</td>\n",
       "    </tr>\n",
       "    <tr>\n",
       "      <th>14947</th>\n",
       "      <td>Fq62KEaz-3xZS</td>\n",
       "      <td>oE7OxjOb-M0os</td>\n",
       "      <td>3oTt3H7Y-zvaJ</td>\n",
       "    </tr>\n",
       "    <tr>\n",
       "      <th>14948</th>\n",
       "      <td>3Nc47pRD-sOoq</td>\n",
       "      <td>ey2oe45x-gRBl</td>\n",
       "      <td>9pilhQPW-zkr4</td>\n",
       "    </tr>\n",
       "    <tr>\n",
       "      <th>14949</th>\n",
       "      <td>Kpzf8Ll0-r5tA</td>\n",
       "      <td>mvTg1J3Z-I6HB</td>\n",
       "      <td>vahJw1oD-SxUA</td>\n",
       "    </tr>\n",
       "    <tr>\n",
       "      <th>14950</th>\n",
       "      <td>o8MJQJNE-Finv</td>\n",
       "      <td>ffr3kplw-61FF</td>\n",
       "      <td>GhYJdT43-IBBK</td>\n",
       "    </tr>\n",
       "    <tr>\n",
       "      <th>14951</th>\n",
       "      <td>TtHLTHlj-3cNc</td>\n",
       "      <td>TlYigBW1-7nbT</td>\n",
       "      <td>Mf20xgEH-Jq9k</td>\n",
       "    </tr>\n",
       "  </tbody>\n",
       "</table>\n",
       "<p>14952 rows × 3 columns</p>\n",
       "</div>"
      ],
      "text/plain": [
       "           person_id        loan_id          cb_id\n",
       "0      JAz2tRvQ-14cy  pjEu6snv-4t33  FIgNSkrG-wen7\n",
       "1      MZSefq9m-loYS  Mfn0Csx4-LGM3  QPDJUQfQ-DJqK\n",
       "2      cRItaaPB-pRvT  Ks4nz74P-z6Iq  hzAXqSDh-ay7Q\n",
       "3      5jTDCfXS-zaAq  ZFlwW08i-I3Al  LiAivrS4-J5DE\n",
       "4      Hbz9PtI3-tOFs  bFMFchcv-UwQW  PkBixMJ3-3bad\n",
       "...              ...            ...            ...\n",
       "14947  Fq62KEaz-3xZS  oE7OxjOb-M0os  3oTt3H7Y-zvaJ\n",
       "14948  3Nc47pRD-sOoq  ey2oe45x-gRBl  9pilhQPW-zkr4\n",
       "14949  Kpzf8Ll0-r5tA  mvTg1J3Z-I6HB  vahJw1oD-SxUA\n",
       "14950  o8MJQJNE-Finv  ffr3kplw-61FF  GhYJdT43-IBBK\n",
       "14951  TtHLTHlj-3cNc  TlYigBW1-7nbT  Mf20xgEH-Jq9k\n",
       "\n",
       "[14952 rows x 3 columns]"
      ]
     },
     "execution_count": 5,
     "metadata": {},
     "output_type": "execute_result"
    }
   ],
   "source": [
    "# testar conexao\n",
    "table_id = pd.read_sql('SELECT * FROM id', con=db_connection)\n",
    "table_id"
   ]
  },
  {
   "cell_type": "markdown",
   "metadata": {},
   "source": [
    "#### Traduzir as colunas\n",
    "Foram criadas **view** com as colunas e informações traduzidas.\n",
    "Todas as **view** receberam o nome original das tabelas + o sulfixo ``_t``.\n",
    "\n",
    "view ``dados_mutuarios_t``:\n",
    "\n",
    "    SELECT \n",
    "        `dados_mutuarios`.`person_id` AS `PESSOA`,\n",
    "        `dados_mutuarios`.`person_age` AS `IDADE`,\n",
    "        `dados_mutuarios`.`person_income` AS `RENDA_ANUAL`,\n",
    "        (CASE\n",
    "            WHEN (`dados_mutuarios`.`person_home_ownership` = 'Rent') THEN 'Alugada'\n",
    "            WHEN (`dados_mutuarios`.`person_home_ownership` = 'Mortgage') THEN 'Hipotecada'\n",
    "            WHEN (`dados_mutuarios`.`person_home_ownership` = 'Own') THEN 'Própria'\n",
    "            WHEN (dados_mutuarios.person_home_ownership = 'Other') THEN 'Outro'\n",
    "            ELSE dados_mutuarios.person_home_ownership\n",
    "        END) AS SITUACAO_PROPRIEDADE,\n",
    "        dados_mutuarios.person_emp_length AS TRABALHO_ANOS\n",
    "    FROM\n",
    "        dados_mutuarios\n",
    "\n",
    "\n",
    "\n",
    "view ``emprestimos_t``:\n",
    "\n",
    "    SELECT \n",
    "        `emprestimos`.`loan_id` AS `EMPRESTIMO`,\n",
    "        (CASE\n",
    "            WHEN (`emprestimos`.`loan_intent` = 'Personal') THEN 'Pessoal'\n",
    "            WHEN (`emprestimos`.`loan_intent` = 'Education') THEN 'Educativo'\n",
    "            WHEN (`emprestimos`.`loan_intent` = 'Medical') THEN 'Médico'\n",
    "            WHEN (emprestimos.loan_intent = 'Venture') THEN 'Empreendimento'\n",
    "            WHEN (emprestimos.loan_intent = 'Homeimprovement') THEN 'Melhora do lar'\n",
    "            WHEN (emprestimos.loan_intent = 'Debtconsolidation') THEN 'Pagamento de débitos'\n",
    "            ELSE emprestimos.loan_intent\n",
    "        END) AS MOTIVO_EMPRESTIMO,\n",
    "        emprestimos.loan_grade AS PONTUACAO,\n",
    "        emprestimos.loan_amnt AS VALOR_EMPRESTIMO,\n",
    "        emprestimos.loan_int_rate AS TAXA_JUROS,\n",
    "        emprestimos.loan_status AS NIVEL_INADIMPLENCIA,\n",
    "        emprestimos.loan_percent_income AS EMPRESTIMO_PERC_RENDA_ANUAL\n",
    "    FROM\n",
    "        emprestimos\n",
    "\n",
    "\n",
    "\n",
    "view ``emprestimos_t``:\n",
    "\n",
    "    SELECT \n",
    "        `historicos_banco`.`cb_id` AS `SOLICITACAO`,\n",
    "        (CASE\n",
    "            WHEN (`historicos_banco`.`cb_person_default_on_file` = 'Y') THEN 'SIM'\n",
    "            WHEN (`historicos_banco`.`cb_person_default_on_file` = 'N') THEN 'NÃO'\n",
    "            ELSE historicos_banco.cb_person_default_on_file\n",
    "        END) AS INADIMPLENTE,\n",
    "        historicos_banco.cb_person_cred_hist_length AS ANOS_PRIMEIRO_CREDITO\n",
    "    FROM\n",
    "        historicos_banco\n",
    "\n",
    "\n",
    "Não foi necessário criar uma **view** para a tabela ``id``.\n"
   ]
  },
  {
   "cell_type": "code",
   "execution_count": 29,
   "metadata": {},
   "outputs": [],
   "source": [
    "# carregar as outras tabelas\n",
    "table_dados_mutuarios = pd.read_sql('SELECT * FROM dados_mutuarios_t', con=db_connection)\n",
    "table_emprestimos = pd.read_sql('SELECT * FROM emprestimos_t', con=db_connection)\n",
    "table_historicos_banco = pd.read_sql('SELECT * FROM historicos_banco_t', con=db_connection)"
   ]
  },
  {
   "cell_type": "markdown",
   "metadata": {},
   "source": [
    "#### Analisar quais os tipos de dados"
   ]
  },
  {
   "cell_type": "code",
   "execution_count": 30,
   "metadata": {},
   "outputs": [
    {
     "name": "stdout",
     "output_type": "stream",
     "text": [
      "========== id ==========\n",
      "<class 'pandas.core.frame.DataFrame'>\n",
      "RangeIndex: 14952 entries, 0 to 14951\n",
      "Data columns (total 3 columns):\n",
      " #   Column     Non-Null Count  Dtype \n",
      "---  ------     --------------  ----- \n",
      " 0   person_id  14952 non-null  object\n",
      " 1   loan_id    14952 non-null  object\n",
      " 2   cb_id      14952 non-null  object\n",
      "dtypes: object(3)\n",
      "memory usage: 350.6+ KB\n",
      "None\n",
      "\n",
      "========== table_dados_mutuarios ==========\n",
      "<class 'pandas.core.frame.DataFrame'>\n",
      "RangeIndex: 32662 entries, 0 to 32661\n",
      "Data columns (total 5 columns):\n",
      " #   Column                Non-Null Count  Dtype  \n",
      "---  ------                --------------  -----  \n",
      " 0   PESSOA                32662 non-null  object \n",
      " 1   IDADE                 32445 non-null  float64\n",
      " 2   RENDA_ANUAL           32662 non-null  int64  \n",
      " 3   SITUACAO_PROPRIEDADE  32662 non-null  object \n",
      " 4   TRABALHO_ANOS         32662 non-null  float64\n",
      "dtypes: float64(2), int64(1), object(2)\n",
      "memory usage: 1.2+ MB\n",
      "None\n",
      "\n",
      "========== table_emprestimos ==========\n",
      "<class 'pandas.core.frame.DataFrame'>\n",
      "RangeIndex: 30589 entries, 0 to 30588\n",
      "Data columns (total 7 columns):\n",
      " #   Column                       Non-Null Count  Dtype  \n",
      "---  ------                       --------------  -----  \n",
      " 0   EMPRESTIMO                   30589 non-null  object \n",
      " 1   MOTIVO_EMPRESTIMO            30589 non-null  object \n",
      " 2   PONTUACAO                    30589 non-null  object \n",
      " 3   VALOR_EMPRESTIMO             30357 non-null  float64\n",
      " 4   TAXA_JUROS                   30589 non-null  float64\n",
      " 5   NIVEL_INADIMPLENCIA          30589 non-null  int64  \n",
      " 6   EMPRESTIMO_PERC_RENDA_ANUAL  30372 non-null  float64\n",
      "dtypes: float64(3), int64(1), object(3)\n",
      "memory usage: 1.6+ MB\n",
      "None\n",
      "\n",
      "========== table_historicos_banco ==========\n",
      "<class 'pandas.core.frame.DataFrame'>\n",
      "RangeIndex: 34489 entries, 0 to 34488\n",
      "Data columns (total 3 columns):\n",
      " #   Column                 Non-Null Count  Dtype  \n",
      "---  ------                 --------------  -----  \n",
      " 0   SOLICITACAO            34489 non-null  object \n",
      " 1   INADIMPLENTE           34489 non-null  object \n",
      " 2   ANOS_PRIMEIRO_CREDITO  34488 non-null  float64\n",
      "dtypes: float64(1), object(2)\n",
      "memory usage: 808.5+ KB\n",
      "None\n"
     ]
    }
   ],
   "source": [
    "# id\n",
    "print('========== id ==========')\n",
    "print(table_id.info())\n",
    "print('\\n========== table_dados_mutuarios ==========')\n",
    "print(table_dados_mutuarios.info())\n",
    "print('\\n========== table_emprestimos ==========')\n",
    "print(table_emprestimos.info())\n",
    "print('\\n========== table_historicos_banco ==========')\n",
    "print(table_historicos_banco.info())\n"
   ]
  },
  {
   "cell_type": "markdown",
   "metadata": {},
   "source": [
    "#### Entender quais informações o conjunto de dados possui"
   ]
  },
  {
   "cell_type": "markdown",
   "metadata": {},
   "source": [
    "A tabela **id** possui as id para o relacionamento com as outras tabelas.\n",
    "\n",
    "\n",
    "person_id = PESSOA\n",
    "\n",
    "loan_id = EMPRESTIMO\n",
    "\n",
    "cb_id = SOLICITACAO"
   ]
  },
  {
   "cell_type": "code",
   "execution_count": 32,
   "metadata": {},
   "outputs": [
    {
     "data": {
      "text/html": [
       "<div>\n",
       "<style scoped>\n",
       "    .dataframe tbody tr th:only-of-type {\n",
       "        vertical-align: middle;\n",
       "    }\n",
       "\n",
       "    .dataframe tbody tr th {\n",
       "        vertical-align: top;\n",
       "    }\n",
       "\n",
       "    .dataframe thead th {\n",
       "        text-align: right;\n",
       "    }\n",
       "</style>\n",
       "<table border=\"1\" class=\"dataframe\">\n",
       "  <thead>\n",
       "    <tr style=\"text-align: right;\">\n",
       "      <th></th>\n",
       "      <th>person_id</th>\n",
       "      <th>loan_id</th>\n",
       "      <th>cb_id</th>\n",
       "    </tr>\n",
       "  </thead>\n",
       "  <tbody>\n",
       "    <tr>\n",
       "      <th>0</th>\n",
       "      <td>JAz2tRvQ-14cy</td>\n",
       "      <td>pjEu6snv-4t33</td>\n",
       "      <td>FIgNSkrG-wen7</td>\n",
       "    </tr>\n",
       "    <tr>\n",
       "      <th>1</th>\n",
       "      <td>MZSefq9m-loYS</td>\n",
       "      <td>Mfn0Csx4-LGM3</td>\n",
       "      <td>QPDJUQfQ-DJqK</td>\n",
       "    </tr>\n",
       "    <tr>\n",
       "      <th>2</th>\n",
       "      <td>cRItaaPB-pRvT</td>\n",
       "      <td>Ks4nz74P-z6Iq</td>\n",
       "      <td>hzAXqSDh-ay7Q</td>\n",
       "    </tr>\n",
       "    <tr>\n",
       "      <th>3</th>\n",
       "      <td>5jTDCfXS-zaAq</td>\n",
       "      <td>ZFlwW08i-I3Al</td>\n",
       "      <td>LiAivrS4-J5DE</td>\n",
       "    </tr>\n",
       "    <tr>\n",
       "      <th>4</th>\n",
       "      <td>Hbz9PtI3-tOFs</td>\n",
       "      <td>bFMFchcv-UwQW</td>\n",
       "      <td>PkBixMJ3-3bad</td>\n",
       "    </tr>\n",
       "  </tbody>\n",
       "</table>\n",
       "</div>"
      ],
      "text/plain": [
       "       person_id        loan_id          cb_id\n",
       "0  JAz2tRvQ-14cy  pjEu6snv-4t33  FIgNSkrG-wen7\n",
       "1  MZSefq9m-loYS  Mfn0Csx4-LGM3  QPDJUQfQ-DJqK\n",
       "2  cRItaaPB-pRvT  Ks4nz74P-z6Iq  hzAXqSDh-ay7Q\n",
       "3  5jTDCfXS-zaAq  ZFlwW08i-I3Al  LiAivrS4-J5DE\n",
       "4  Hbz9PtI3-tOFs  bFMFchcv-UwQW  PkBixMJ3-3bad"
      ]
     },
     "execution_count": 32,
     "metadata": {},
     "output_type": "execute_result"
    }
   ],
   "source": [
    "table_id.head()"
   ]
  },
  {
   "cell_type": "markdown",
   "metadata": {},
   "source": [
    "A tabela **dados_mutuarios_t** possui os dados pessoas, e apresenta tipos como **INT**, **FLOAT** e **STRING**."
   ]
  },
  {
   "cell_type": "code",
   "execution_count": 37,
   "metadata": {},
   "outputs": [
    {
     "data": {
      "text/html": [
       "<div>\n",
       "<style scoped>\n",
       "    .dataframe tbody tr th:only-of-type {\n",
       "        vertical-align: middle;\n",
       "    }\n",
       "\n",
       "    .dataframe tbody tr th {\n",
       "        vertical-align: top;\n",
       "    }\n",
       "\n",
       "    .dataframe thead th {\n",
       "        text-align: right;\n",
       "    }\n",
       "</style>\n",
       "<table border=\"1\" class=\"dataframe\">\n",
       "  <thead>\n",
       "    <tr style=\"text-align: right;\">\n",
       "      <th></th>\n",
       "      <th>PESSOA</th>\n",
       "      <th>IDADE</th>\n",
       "      <th>RENDA_ANUAL</th>\n",
       "      <th>SITUACAO_PROPRIEDADE</th>\n",
       "      <th>TRABALHO_ANOS</th>\n",
       "    </tr>\n",
       "  </thead>\n",
       "  <tbody>\n",
       "    <tr>\n",
       "      <th>0</th>\n",
       "      <td>tad8vkTn-vp4l</td>\n",
       "      <td>33.0</td>\n",
       "      <td>48000</td>\n",
       "      <td>Alugada</td>\n",
       "      <td>17.0</td>\n",
       "    </tr>\n",
       "    <tr>\n",
       "      <th>1</th>\n",
       "      <td>dEILQqp2-lgLx</td>\n",
       "      <td>24.0</td>\n",
       "      <td>75000</td>\n",
       "      <td>Própria</td>\n",
       "      <td>0.0</td>\n",
       "    </tr>\n",
       "    <tr>\n",
       "      <th>2</th>\n",
       "      <td>Az11sWWw-SdFA</td>\n",
       "      <td>29.0</td>\n",
       "      <td>28800</td>\n",
       "      <td>Alugada</td>\n",
       "      <td>5.0</td>\n",
       "    </tr>\n",
       "    <tr>\n",
       "      <th>3</th>\n",
       "      <td>YDovEwBH-0eek</td>\n",
       "      <td>23.0</td>\n",
       "      <td>75000</td>\n",
       "      <td>Hipotecada</td>\n",
       "      <td>7.0</td>\n",
       "    </tr>\n",
       "    <tr>\n",
       "      <th>4</th>\n",
       "      <td>lNsbfwlP-gzOE</td>\n",
       "      <td>26.0</td>\n",
       "      <td>35000</td>\n",
       "      <td>Alugada</td>\n",
       "      <td>0.0</td>\n",
       "    </tr>\n",
       "  </tbody>\n",
       "</table>\n",
       "</div>"
      ],
      "text/plain": [
       "          PESSOA  IDADE  RENDA_ANUAL SITUACAO_PROPRIEDADE  TRABALHO_ANOS\n",
       "0  tad8vkTn-vp4l   33.0        48000              Alugada           17.0\n",
       "1  dEILQqp2-lgLx   24.0        75000              Própria            0.0\n",
       "2  Az11sWWw-SdFA   29.0        28800              Alugada            5.0\n",
       "3  YDovEwBH-0eek   23.0        75000           Hipotecada            7.0\n",
       "4  lNsbfwlP-gzOE   26.0        35000              Alugada            0.0"
      ]
     },
     "execution_count": 37,
     "metadata": {},
     "output_type": "execute_result"
    }
   ],
   "source": [
    "table_dados_mutuarios.head()"
   ]
  },
  {
   "cell_type": "markdown",
   "metadata": {},
   "source": [
    "A tabela **table_emprestimos_t** possui os dados dos empréstimos, e apresenta tipos como **INT**, **FLOAT** e **STRING**."
   ]
  },
  {
   "cell_type": "code",
   "execution_count": 41,
   "metadata": {},
   "outputs": [
    {
     "data": {
      "text/html": [
       "<div>\n",
       "<style scoped>\n",
       "    .dataframe tbody tr th:only-of-type {\n",
       "        vertical-align: middle;\n",
       "    }\n",
       "\n",
       "    .dataframe tbody tr th {\n",
       "        vertical-align: top;\n",
       "    }\n",
       "\n",
       "    .dataframe thead th {\n",
       "        text-align: right;\n",
       "    }\n",
       "</style>\n",
       "<table border=\"1\" class=\"dataframe\">\n",
       "  <thead>\n",
       "    <tr style=\"text-align: right;\">\n",
       "      <th></th>\n",
       "      <th>EMPRESTIMO</th>\n",
       "      <th>MOTIVO_EMPRESTIMO</th>\n",
       "      <th>PONTUACAO</th>\n",
       "      <th>VALOR_EMPRESTIMO</th>\n",
       "      <th>TAXA_JUROS</th>\n",
       "      <th>NIVEL_INADIMPLENCIA</th>\n",
       "      <th>EMPRESTIMO_PERC_RENDA_ANUAL</th>\n",
       "    </tr>\n",
       "  </thead>\n",
       "  <tbody>\n",
       "    <tr>\n",
       "      <th>0</th>\n",
       "      <td>NMgFWFWN-2yGG</td>\n",
       "      <td>Melhora do lar</td>\n",
       "      <td>C</td>\n",
       "      <td>20000.0</td>\n",
       "      <td>13.22</td>\n",
       "      <td>0</td>\n",
       "      <td>0.22</td>\n",
       "    </tr>\n",
       "    <tr>\n",
       "      <th>1</th>\n",
       "      <td>08Ts3XSa-KkvE</td>\n",
       "      <td>Empreendimento</td>\n",
       "      <td>C</td>\n",
       "      <td>6000.0</td>\n",
       "      <td>13.49</td>\n",
       "      <td>0</td>\n",
       "      <td>0.04</td>\n",
       "    </tr>\n",
       "    <tr>\n",
       "      <th>2</th>\n",
       "      <td>xo79pAME-elmp</td>\n",
       "      <td>Pessoal</td>\n",
       "      <td>A</td>\n",
       "      <td>8000.0</td>\n",
       "      <td>6.17</td>\n",
       "      <td>0</td>\n",
       "      <td>0.13</td>\n",
       "    </tr>\n",
       "    <tr>\n",
       "      <th>3</th>\n",
       "      <td>IB6lBS2h-nWhz</td>\n",
       "      <td>Melhora do lar</td>\n",
       "      <td>B</td>\n",
       "      <td>9600.0</td>\n",
       "      <td>10.08</td>\n",
       "      <td>0</td>\n",
       "      <td>0.16</td>\n",
       "    </tr>\n",
       "    <tr>\n",
       "      <th>4</th>\n",
       "      <td>CONLtJHn-1yde</td>\n",
       "      <td>Médico</td>\n",
       "      <td>A</td>\n",
       "      <td>6500.0</td>\n",
       "      <td>8.49</td>\n",
       "      <td>0</td>\n",
       "      <td>0.30</td>\n",
       "    </tr>\n",
       "  </tbody>\n",
       "</table>\n",
       "</div>"
      ],
      "text/plain": [
       "      EMPRESTIMO MOTIVO_EMPRESTIMO PONTUACAO  VALOR_EMPRESTIMO  TAXA_JUROS  \\\n",
       "0  NMgFWFWN-2yGG    Melhora do lar         C           20000.0       13.22   \n",
       "1  08Ts3XSa-KkvE    Empreendimento         C            6000.0       13.49   \n",
       "2  xo79pAME-elmp           Pessoal         A            8000.0        6.17   \n",
       "3  IB6lBS2h-nWhz    Melhora do lar         B            9600.0       10.08   \n",
       "4  CONLtJHn-1yde            Médico         A            6500.0        8.49   \n",
       "\n",
       "   NIVEL_INADIMPLENCIA  EMPRESTIMO_PERC_RENDA_ANUAL  \n",
       "0                    0                         0.22  \n",
       "1                    0                         0.04  \n",
       "2                    0                         0.13  \n",
       "3                    0                         0.16  \n",
       "4                    0                         0.30  "
      ]
     },
     "execution_count": 41,
     "metadata": {},
     "output_type": "execute_result"
    }
   ],
   "source": [
    "table_emprestimos.head()"
   ]
  },
  {
   "cell_type": "markdown",
   "metadata": {},
   "source": [
    "A tabela **historicos_banco_t** possui os dados dos empréstimos, e apresenta tipos como **FLOAT** e **STRING**."
   ]
  },
  {
   "cell_type": "code",
   "execution_count": 40,
   "metadata": {},
   "outputs": [
    {
     "data": {
      "text/html": [
       "<div>\n",
       "<style scoped>\n",
       "    .dataframe tbody tr th:only-of-type {\n",
       "        vertical-align: middle;\n",
       "    }\n",
       "\n",
       "    .dataframe tbody tr th {\n",
       "        vertical-align: top;\n",
       "    }\n",
       "\n",
       "    .dataframe thead th {\n",
       "        text-align: right;\n",
       "    }\n",
       "</style>\n",
       "<table border=\"1\" class=\"dataframe\">\n",
       "  <thead>\n",
       "    <tr style=\"text-align: right;\">\n",
       "      <th></th>\n",
       "      <th>SOLICITACAO</th>\n",
       "      <th>INADIMPLENTE</th>\n",
       "      <th>ANOS_PRIMEIRO_CREDITO</th>\n",
       "    </tr>\n",
       "  </thead>\n",
       "  <tbody>\n",
       "    <tr>\n",
       "      <th>0</th>\n",
       "      <td>ZNWGR0Ap-FDt2</td>\n",
       "      <td>NÃO</td>\n",
       "      <td>9.0</td>\n",
       "    </tr>\n",
       "    <tr>\n",
       "      <th>1</th>\n",
       "      <td>wqALDH4x-mnzE</td>\n",
       "      <td>NÃO</td>\n",
       "      <td>7.0</td>\n",
       "    </tr>\n",
       "    <tr>\n",
       "      <th>2</th>\n",
       "      <td>57O09sJw-NBKj</td>\n",
       "      <td>NÃO</td>\n",
       "      <td>6.0</td>\n",
       "    </tr>\n",
       "    <tr>\n",
       "      <th>3</th>\n",
       "      <td>pH50QiTJ-0jqz</td>\n",
       "      <td>SIM</td>\n",
       "      <td>10.0</td>\n",
       "    </tr>\n",
       "    <tr>\n",
       "      <th>4</th>\n",
       "      <td>3voX5CIK-tCxE</td>\n",
       "      <td>NÃO</td>\n",
       "      <td>12.0</td>\n",
       "    </tr>\n",
       "  </tbody>\n",
       "</table>\n",
       "</div>"
      ],
      "text/plain": [
       "     SOLICITACAO INADIMPLENTE  ANOS_PRIMEIRO_CREDITO\n",
       "0  ZNWGR0Ap-FDt2          NÃO                    9.0\n",
       "1  wqALDH4x-mnzE          NÃO                    7.0\n",
       "2  57O09sJw-NBKj          NÃO                    6.0\n",
       "3  pH50QiTJ-0jqz          SIM                   10.0\n",
       "4  3voX5CIK-tCxE          NÃO                   12.0"
      ]
     },
     "execution_count": 40,
     "metadata": {},
     "output_type": "execute_result"
    }
   ],
   "source": [
    "table_historicos_banco.head()"
   ]
  },
  {
   "cell_type": "markdown",
   "metadata": {},
   "source": [
    "#### Verificar/Corrigir as inconsistências nos dados"
   ]
  },
  {
   "cell_type": "code",
   "execution_count": 68,
   "metadata": {},
   "outputs": [
    {
     "name": "stdout",
     "output_type": "stream",
     "text": [
      "Nulos:\n",
      "person_id    0\n",
      "loan_id      0\n",
      "cb_id        0\n",
      "dtype: int64\n",
      "\n",
      "Vazios:\n",
      "person_id    0\n",
      "loan_id      0\n",
      "cb_id        0\n",
      "dtype: int64\n"
     ]
    }
   ],
   "source": [
    "# id\n",
    "print('Nulos:')\n",
    "print(table_id.isnull().sum())\n",
    "print()\n",
    "print('Vazios:')\n",
    "print((table_id == '').sum())\n"
   ]
  },
  {
   "cell_type": "code",
   "execution_count": 72,
   "metadata": {},
   "outputs": [
    {
     "name": "stdout",
     "output_type": "stream",
     "text": [
      "Nulos:\n",
      "EMPRESTIMO                       0\n",
      "MOTIVO_EMPRESTIMO                0\n",
      "PONTUACAO                        0\n",
      "VALOR_EMPRESTIMO               232\n",
      "TAXA_JUROS                       0\n",
      "NIVEL_INADIMPLENCIA              0\n",
      "EMPRESTIMO_PERC_RENDA_ANUAL    217\n",
      "dtype: int64\n",
      "\n",
      "Vazios:\n",
      "EMPRESTIMO                       0\n",
      "MOTIVO_EMPRESTIMO              238\n",
      "PONTUACAO                      230\n",
      "VALOR_EMPRESTIMO                 0\n",
      "TAXA_JUROS                       0\n",
      "NIVEL_INADIMPLENCIA              0\n",
      "EMPRESTIMO_PERC_RENDA_ANUAL      0\n",
      "dtype: int64\n"
     ]
    }
   ],
   "source": [
    "# table_dados_mutuarios\n",
    "print('Nulos:')\n",
    "print(table_emprestimos.isnull().sum())\n",
    "print()\n",
    "print('Vazios:')\n",
    "print((table_emprestimos == '').sum())"
   ]
  },
  {
   "cell_type": "code",
   "execution_count": null,
   "metadata": {},
   "outputs": [],
   "source": [
    "# table_dados_mutuarios\n",
    "print('Nulos:')\n",
    "print(table_emprestimos.isnull().sum())\n",
    "print()\n",
    "print('Vazios:')\n",
    "print((table_emprestimos == '').sum())"
   ]
  },
  {
   "cell_type": "code",
   "execution_count": 73,
   "metadata": {},
   "outputs": [
    {
     "name": "stdout",
     "output_type": "stream",
     "text": [
      "Nulos:\n",
      "SOLICITACAO              0\n",
      "INADIMPLENTE             0\n",
      "ANOS_PRIMEIRO_CREDITO    1\n",
      "dtype: int64\n",
      "\n",
      "Vazios:\n",
      "SOLICITACAO                0\n",
      "INADIMPLENTE             367\n",
      "ANOS_PRIMEIRO_CREDITO      0\n",
      "dtype: int64\n"
     ]
    }
   ],
   "source": [
    "# table_dados_mutuarios\n",
    "print('Nulos:')\n",
    "print(table_historicos_banco.isnull().sum())\n",
    "print()\n",
    "print('Vazios:')\n",
    "print((table_historicos_banco == '').sum())"
   ]
  },
  {
   "cell_type": "markdown",
   "metadata": {},
   "source": [
    "### Atividades realizadas (Semana 1)\n",
    "- [OK] Instalar MySQL Workbench e importar **database dump**.\n",
    "- [OK] Analisar quais os tipos de dados.\n",
    "- [OK] Verificar quais são as inconsistências nos dados.\n",
    "- [OK] Entender quais informações o conjunto de dados possui.\n",
    "- [OK] Verificar quais são as inconsistências nos dados.\n",
    "- Corrigir as inconsistências nos dados.\n",
    "- Unir as tabelas de dados de acordo com os IDs.\n",
    "- [OK] Traduzir as colunas.\n",
    "- Exportar a tabela de dados unidos como csv."
   ]
  }
 ],
 "metadata": {
  "kernelspec": {
   "display_name": "Python 3.9.2 64-bit",
   "language": "python",
   "name": "python3"
  },
  "language_info": {
   "codemirror_mode": {
    "name": "ipython",
    "version": 3
   },
   "file_extension": ".py",
   "mimetype": "text/x-python",
   "name": "python",
   "nbconvert_exporter": "python",
   "pygments_lexer": "ipython3",
   "version": "3.9.2"
  },
  "orig_nbformat": 4,
  "vscode": {
   "interpreter": {
    "hash": "a7de64065884b7780333370f8de1175b65d49259e6a478d1a6e215e36330ef66"
   }
  }
 },
 "nbformat": 4,
 "nbformat_minor": 2
}
